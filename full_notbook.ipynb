{
 "cells": [
  {
   "cell_type": "code",
   "execution_count": 50,
   "metadata": {},
   "outputs": [],
   "source": [
    "from helpers import *\n",
    "import pandas as pd\n",
    "\n",
    "# import numpy as np\n",
    "# from plot_params import *\n",
    "# from scipy.spatial.distance import cdist\n",
    "# from copy import deepcopy\n",
    "# from tqdm import tqdm\n",
    "# from joblib import Parallel, delayed\n",
    "# from matplotlib.animation import FuncAnimation"
   ]
  },
  {
   "cell_type": "markdown",
   "metadata": {},
   "source": [
    "\n",
    "- different cooling schedules\n",
    "- length of markov chain\n",
    "- variable stepsize \n",
    "- optimal configuration for several n charges\n",
    "\n",
    "# Figures:\n",
    "- exp vs log cooling for n = 12, 30, 56, 92\n",
    "\n",
    "- MC length of 100, 200, 400 for n = 12, 30, 56, 92 using best cooling schedule\n",
    "\n",
    "- variable stepsize 0.5 to 0.25, 0.1, 0.05 for best MC length"
   ]
  },
  {
   "cell_type": "code",
   "execution_count": 51,
   "metadata": {},
   "outputs": [
    {
     "data": {
      "text/plain": [
       "'\\nPoints for in discussion\\n- extend to 3d\\n- reannealing\\n- other methods of solving, like genetic algorithm\\n- mor extensive parameter search with for example validation model\\n'"
      ]
     },
     "execution_count": 51,
     "metadata": {},
     "output_type": "execute_result"
    }
   ],
   "source": [
    "\"\"\"\n",
    "Points for in discussion\n",
    "- extend to 3d\n",
    "- reannealing\n",
    "- other methods of solving, like genetic algorithm\n",
    "- mor extensive parameter search with for example validation model\n",
    "\"\"\""
   ]
  },
  {
   "cell_type": "code",
   "execution_count": 52,
   "metadata": {},
   "outputs": [
    {
     "data": {
      "text/plain": [
       "'\\nTODO: \\n- Different cooling schedules\\n- Decrease stepsize\\n\\nFigures:\\n- Examples using both cooling schemes with n = 12, 30, 56, include the variability\\n- \\n'"
      ]
     },
     "execution_count": 52,
     "metadata": {},
     "output_type": "execute_result"
    }
   ],
   "source": [
    "\"\"\"\n",
    "TODO: \n",
    "- Different cooling schedules\n",
    "- Decrease stepsize\n",
    "\n",
    "Figures:\n",
    "- Examples using both cooling schemes with n = 12, 30, 56, include the variability\n",
    "- \n",
    "\"\"\""
   ]
  },
  {
   "cell_type": "code",
   "execution_count": 90,
   "metadata": {},
   "outputs": [],
   "source": [
    "def cooling_logistic(steps, B, vu, M):\n",
    "    i = np.linspace(10, 1, steps)\n",
    "    T = 1 / (1 + np.exp(- B * (i - M)) ** (1 / vu)) \n",
    "    return T\n",
    "\n",
    "def cooling_exponential(steps, T_init, constant):\n",
    "    T = np.zeros(steps)\n",
    "    for i in range(steps):\n",
    "        T[i] = T_init*pow(constant,i)\n",
    "    return T"
   ]
  },
  {
   "cell_type": "code",
   "execution_count": 94,
   "metadata": {},
   "outputs": [
    {
     "name": "stdout",
     "output_type": "stream",
     "text": [
      "\n",
      "Exp 12\n"
     ]
    },
    {
     "name": "stderr",
     "output_type": "stream",
     "text": [
      "[Parallel(n_jobs=-1)]: Using backend LokyBackend with 16 concurrent workers.\n",
      "[Parallel(n_jobs=-1)]: Done  18 tasks      | elapsed:    0.7s\n",
      "[Parallel(n_jobs=-1)]: Done 100 out of 100 | elapsed:    2.6s finished\n",
      "[Parallel(n_jobs=-1)]: Using backend LokyBackend with 16 concurrent workers.\n"
     ]
    },
    {
     "name": "stdout",
     "output_type": "stream",
     "text": [
      "\n",
      "Exp 21\n"
     ]
    },
    {
     "name": "stderr",
     "output_type": "stream",
     "text": [
      "[Parallel(n_jobs=-1)]: Done  18 tasks      | elapsed:    1.4s\n",
      "[Parallel(n_jobs=-1)]: Done 100 out of 100 | elapsed:    5.0s finished\n",
      "[Parallel(n_jobs=-1)]: Using backend LokyBackend with 16 concurrent workers.\n"
     ]
    },
    {
     "name": "stdout",
     "output_type": "stream",
     "text": [
      "\n",
      "Exp 30\n"
     ]
    },
    {
     "name": "stderr",
     "output_type": "stream",
     "text": [
      "[Parallel(n_jobs=-1)]: Done  18 tasks      | elapsed:    2.4s\n",
      "[Parallel(n_jobs=-1)]: Done 100 out of 100 | elapsed:    8.2s finished\n",
      "[Parallel(n_jobs=-1)]: Using backend LokyBackend with 16 concurrent workers.\n"
     ]
    },
    {
     "name": "stdout",
     "output_type": "stream",
     "text": [
      "\n",
      "Exp 43\n"
     ]
    },
    {
     "name": "stderr",
     "output_type": "stream",
     "text": [
      "[Parallel(n_jobs=-1)]: Done  18 tasks      | elapsed:    3.9s\n",
      "[Parallel(n_jobs=-1)]: Done 100 out of 100 | elapsed:   13.3s finished\n",
      "[Parallel(n_jobs=-1)]: Using backend LokyBackend with 16 concurrent workers.\n"
     ]
    },
    {
     "name": "stdout",
     "output_type": "stream",
     "text": [
      "\n",
      "Exp 56\n"
     ]
    },
    {
     "name": "stderr",
     "output_type": "stream",
     "text": [
      "[Parallel(n_jobs=-1)]: Done  18 tasks      | elapsed:    6.3s\n",
      "[Parallel(n_jobs=-1)]: Done 100 out of 100 | elapsed:   21.7s finished\n"
     ]
    }
   ],
   "source": [
    "# test with exponential cooling\n",
    "\n",
    "# simulation setings\n",
    "n_attemps_per_run = 1\n",
    "n_runs = 100\n",
    "circle_radius = 1\n",
    "\n",
    "# simulation parameters\n",
    "n_steps = 200\n",
    "stepsize_init = 0.05\n",
    "stepsize_final = 0.05\n",
    "random_influence = 1\n",
    "force_influence = 1\n",
    "\n",
    "# parameters for exponential cooling function\n",
    "T_init = 1\n",
    "constant = 0.965\n",
    "temperature = cooling_exponential(n_steps, T_init, constant)\n",
    "\n",
    "n_charges_range = [12, 21, 30, 43, 56]\n",
    "\n",
    "results_exp_test = {}\n",
    "for n_charges in n_charges_range:\n",
    "    print(f'\\nExp {n_charges}')\n",
    "\n",
    "    # initialize simulation\n",
    "    cc = CircleCharges(\n",
    "        n_charges, \n",
    "        n_attemps_per_run, \n",
    "        n_runs, \n",
    "        circle_radius, \n",
    "        n_steps, \n",
    "        stepsize_init, \n",
    "        stepsize_final, \n",
    "        random_influence, \n",
    "        force_influence, \n",
    "        temperature\n",
    "    )\n",
    "\n",
    "    # run the simulation\n",
    "    # cc.run()\n",
    "    cc.run_without_selection()\n",
    "\n",
    "    # # produce image \n",
    "    # savepath = f'figures/Exponential_temp_{n_charges}.pdf'\n",
    "    # cc.produce_figure(savepath=savepath)\n",
    "\n",
    "    # get results\n",
    "    results_exp_test[n_charges] = cc.get_results()"
   ]
  },
  {
   "cell_type": "code",
   "execution_count": 95,
   "metadata": {},
   "outputs": [
    {
     "name": "stderr",
     "output_type": "stream",
     "text": [
      "[Parallel(n_jobs=-1)]: Using backend LokyBackend with 16 concurrent workers.\n"
     ]
    },
    {
     "name": "stdout",
     "output_type": "stream",
     "text": [
      "\n",
      "Log 12\n"
     ]
    },
    {
     "name": "stderr",
     "output_type": "stream",
     "text": [
      "[Parallel(n_jobs=-1)]: Done  18 tasks      | elapsed:    0.7s\n",
      "[Parallel(n_jobs=-1)]: Done 100 out of 100 | elapsed:    2.6s finished\n",
      "[Parallel(n_jobs=-1)]: Using backend LokyBackend with 16 concurrent workers.\n"
     ]
    },
    {
     "name": "stdout",
     "output_type": "stream",
     "text": [
      "\n",
      "Log 21\n"
     ]
    },
    {
     "name": "stderr",
     "output_type": "stream",
     "text": [
      "[Parallel(n_jobs=-1)]: Done  18 tasks      | elapsed:    1.4s\n",
      "[Parallel(n_jobs=-1)]: Done 100 out of 100 | elapsed:    4.9s finished\n",
      "[Parallel(n_jobs=-1)]: Using backend LokyBackend with 16 concurrent workers.\n"
     ]
    },
    {
     "name": "stdout",
     "output_type": "stream",
     "text": [
      "\n",
      "Log 30\n"
     ]
    },
    {
     "name": "stderr",
     "output_type": "stream",
     "text": [
      "[Parallel(n_jobs=-1)]: Done  18 tasks      | elapsed:    2.3s\n",
      "[Parallel(n_jobs=-1)]: Done 100 out of 100 | elapsed:    7.9s finished\n",
      "[Parallel(n_jobs=-1)]: Using backend LokyBackend with 16 concurrent workers.\n"
     ]
    },
    {
     "name": "stdout",
     "output_type": "stream",
     "text": [
      "\n",
      "Log 43\n"
     ]
    },
    {
     "name": "stderr",
     "output_type": "stream",
     "text": [
      "[Parallel(n_jobs=-1)]: Done  18 tasks      | elapsed:    4.0s\n",
      "[Parallel(n_jobs=-1)]: Done 100 out of 100 | elapsed:   13.4s finished\n",
      "[Parallel(n_jobs=-1)]: Using backend LokyBackend with 16 concurrent workers.\n"
     ]
    },
    {
     "name": "stdout",
     "output_type": "stream",
     "text": [
      "\n",
      "Log 56\n"
     ]
    },
    {
     "name": "stderr",
     "output_type": "stream",
     "text": [
      "[Parallel(n_jobs=-1)]: Done  18 tasks      | elapsed:    6.3s\n",
      "[Parallel(n_jobs=-1)]: Done 100 out of 100 | elapsed:   21.7s finished\n"
     ]
    }
   ],
   "source": [
    "# test with logistic cooling\n",
    "\n",
    "# parameters for logistic cooling function\n",
    "B = 7\n",
    "vu = 5\n",
    "M = 5\n",
    "temperature = cooling_logistic(n_steps, B, vu, M)\n",
    "\n",
    "results_log_test = {}\n",
    "for n_charges in n_charges_range:\n",
    "    print(f'\\nLog {n_charges}')\n",
    "\n",
    "    # initialize simulation\n",
    "    cc = CircleCharges(\n",
    "        n_charges, \n",
    "        n_attemps_per_run, \n",
    "        n_runs, \n",
    "        circle_radius, \n",
    "        n_steps, \n",
    "        stepsize_init, \n",
    "        stepsize_final, \n",
    "        random_influence, \n",
    "        force_influence, \n",
    "        temperature\n",
    "    )\n",
    "\n",
    "    # run the simulation\n",
    "    # cc.run()\n",
    "    cc.run_without_selection()\n",
    "\n",
    "\n",
    "    # # produce image \n",
    "    # savepath = f'figures/Logistic_temp_{n_charges}.pdf'\n",
    "    # cc.produce_figure(savepath=savepath)\n",
    "\n",
    "    # get results\n",
    "    results_log_test[n_charges] = cc.get_results()"
   ]
  },
  {
   "cell_type": "code",
   "execution_count": 56,
   "metadata": {},
   "outputs": [
    {
     "data": {
      "text/html": [
       "<div>\n",
       "<style scoped>\n",
       "    .dataframe tbody tr th:only-of-type {\n",
       "        vertical-align: middle;\n",
       "    }\n",
       "\n",
       "    .dataframe tbody tr th {\n",
       "        vertical-align: top;\n",
       "    }\n",
       "\n",
       "    .dataframe thead th {\n",
       "        text-align: right;\n",
       "    }\n",
       "</style>\n",
       "<table border=\"1\" class=\"dataframe\">\n",
       "  <thead>\n",
       "    <tr style=\"text-align: right;\">\n",
       "      <th></th>\n",
       "      <th>Expnential, n=12</th>\n",
       "      <th>Logistic, n=12</th>\n",
       "      <th>Expnential, n=21</th>\n",
       "      <th>Logistic, n=21</th>\n",
       "      <th>Expnential, n=30</th>\n",
       "      <th>Logistic, n=30</th>\n",
       "      <th>Expnential, n=43</th>\n",
       "      <th>Logistic, n=43</th>\n",
       "      <th>Expnential, n=56</th>\n",
       "      <th>Logistic, n=56</th>\n",
       "    </tr>\n",
       "  </thead>\n",
       "  <tbody>\n",
       "    <tr>\n",
       "      <th>Variability</th>\n",
       "      <td>1.000000</td>\n",
       "      <td>1.000000</td>\n",
       "      <td>1.000000</td>\n",
       "      <td>1.000000</td>\n",
       "      <td>1.000000</td>\n",
       "      <td>1.000000</td>\n",
       "      <td>1.000000</td>\n",
       "      <td>1.000000</td>\n",
       "      <td>1.000000</td>\n",
       "      <td>1.000000</td>\n",
       "    </tr>\n",
       "    <tr>\n",
       "      <th>Minimum</th>\n",
       "      <td>59.617776</td>\n",
       "      <td>59.631668</td>\n",
       "      <td>216.708477</td>\n",
       "      <td>216.592303</td>\n",
       "      <td>479.960191</td>\n",
       "      <td>480.504434</td>\n",
       "      <td>1056.518257</td>\n",
       "      <td>1056.373724</td>\n",
       "      <td>1868.469894</td>\n",
       "      <td>1869.801646</td>\n",
       "    </tr>\n",
       "    <tr>\n",
       "      <th>Maximum</th>\n",
       "      <td>60.796917</td>\n",
       "      <td>60.057228</td>\n",
       "      <td>220.108086</td>\n",
       "      <td>218.621679</td>\n",
       "      <td>485.237733</td>\n",
       "      <td>483.885403</td>\n",
       "      <td>1063.741567</td>\n",
       "      <td>1062.360933</td>\n",
       "      <td>1879.898378</td>\n",
       "      <td>1878.297571</td>\n",
       "    </tr>\n",
       "    <tr>\n",
       "      <th>Mean</th>\n",
       "      <td>59.761650</td>\n",
       "      <td>59.847969</td>\n",
       "      <td>217.432031</td>\n",
       "      <td>217.300729</td>\n",
       "      <td>481.662363</td>\n",
       "      <td>482.011761</td>\n",
       "      <td>1059.146104</td>\n",
       "      <td>1059.252682</td>\n",
       "      <td>1873.307312</td>\n",
       "      <td>1873.568559</td>\n",
       "    </tr>\n",
       "    <tr>\n",
       "      <th>Standard deviation</th>\n",
       "      <td>0.294857</td>\n",
       "      <td>0.135931</td>\n",
       "      <td>0.636599</td>\n",
       "      <td>0.503158</td>\n",
       "      <td>0.902196</td>\n",
       "      <td>0.747018</td>\n",
       "      <td>1.315860</td>\n",
       "      <td>1.227428</td>\n",
       "      <td>1.897418</td>\n",
       "      <td>1.798596</td>\n",
       "    </tr>\n",
       "  </tbody>\n",
       "</table>\n",
       "</div>"
      ],
      "text/plain": [
       "                    Expnential, n=12  Logistic, n=12  Expnential, n=21  \\\n",
       "Variability                 1.000000        1.000000          1.000000   \n",
       "Minimum                    59.617776       59.631668        216.708477   \n",
       "Maximum                    60.796917       60.057228        220.108086   \n",
       "Mean                       59.761650       59.847969        217.432031   \n",
       "Standard deviation          0.294857        0.135931          0.636599   \n",
       "\n",
       "                    Logistic, n=21  Expnential, n=30  Logistic, n=30  \\\n",
       "Variability               1.000000          1.000000        1.000000   \n",
       "Minimum                 216.592303        479.960191      480.504434   \n",
       "Maximum                 218.621679        485.237733      483.885403   \n",
       "Mean                    217.300729        481.662363      482.011761   \n",
       "Standard deviation        0.503158          0.902196        0.747018   \n",
       "\n",
       "                    Expnential, n=43  Logistic, n=43  Expnential, n=56  \\\n",
       "Variability                 1.000000        1.000000          1.000000   \n",
       "Minimum                  1056.518257     1056.373724       1868.469894   \n",
       "Maximum                  1063.741567     1062.360933       1879.898378   \n",
       "Mean                     1059.146104     1059.252682       1873.307312   \n",
       "Standard deviation          1.315860        1.227428          1.897418   \n",
       "\n",
       "                    Logistic, n=56  \n",
       "Variability               1.000000  \n",
       "Minimum                1869.801646  \n",
       "Maximum                1878.297571  \n",
       "Mean                   1873.568559  \n",
       "Standard deviation        1.798596  "
      ]
     },
     "execution_count": 56,
     "metadata": {},
     "output_type": "execute_result"
    }
   ],
   "source": [
    "# present the results\n",
    "\n",
    "index = ['Variability', 'Minimum', 'Maximum', 'Mean', 'Standard deviation']\n",
    "\n",
    "dct = {}\n",
    "for n_charges in n_charges_range:\n",
    "    dct[f'Expnential, n={n_charges}'] = results_exp_test[n_charges].values()\n",
    "    dct[f'Logistic, n={n_charges}'] = results_log_test[n_charges].values()\n",
    "\n",
    "df = pd.DataFrame(dct, index=index)\n",
    "df"
   ]
  },
  {
   "cell_type": "code",
   "execution_count": 96,
   "metadata": {},
   "outputs": [
    {
     "data": {
      "image/png": "[encoded data removed]",
      "text/plain": [
       "<Figure size 576x504 with 1 Axes>"
      ]
     },
     "metadata": {
      "needs_background": "light"
     },
     "output_type": "display_data"
    }
   ],
   "source": [
    "\n",
    "varias = np.zeros((len(n_charges_range), 2))\n",
    "means = np.zeros((len(n_charges_range), 2))\n",
    "stds = np.zeros((len(n_charges_range), 2))\n",
    "\n",
    "for i, result_dict in enumerate([results_exp_test, results_log_test]):\n",
    "    for j, n_charges in enumerate(n_charges_range):\n",
    "        means[j][i] = result_dict[n_charges]['min_energy']\n",
    "        stds[j][i] = result_dict[n_charges]['std_energy']\n",
    "        varias[j][i] = result_dict[n_charges]['variability']\n",
    "\n",
    "\n",
    "# plt.title('Variability')\n",
    "# plt.plot(n_charges_range, varias[:, 0] - varias.mean(axis=1), label='Exponential')\n",
    "# plt.plot(n_charges_range, varias[:, 1] - varias.mean(axis=1), label='Logistic')\n",
    "# plt.legend()\n",
    "# plt.show()\n",
    "\n",
    "plt.figure(figsize=(8, 7))\n",
    "plt.title('Mean energy after 100 runs')\n",
    "plt.errorbar(n_charges_range, means[:, 0] - means.mean(axis=1), stds[:, 0], capsize=5, label='Exponential', ls=':')\n",
    "plt.errorbar(n_charges_range, means[:, 1] - means.mean(axis=1), stds[:, 1], capsize=5, label='Logistic', ls=':')\n",
    "plt.legend()\n",
    "# plt.xlim(min(n_charges_range), max(n_charges_range))\n",
    "plt.xlabel('N charges')\n",
    "plt.ylabel('Energy')\n",
    "plt.tight_layout()\n",
    "plt.savefig('figures/test_temp_func.pdf')\n",
    "plt.show()\n"
   ]
  },
  {
   "cell_type": "code",
   "execution_count": 68,
   "metadata": {},
   "outputs": [
    {
     "name": "stdout",
     "output_type": "stream",
     "text": [
      "\n",
      "Mc len 100 12\n"
     ]
    },
    {
     "name": "stderr",
     "output_type": "stream",
     "text": [
      "[Parallel(n_jobs=-1)]: Using backend LokyBackend with 16 concurrent workers.\n",
      "[Parallel(n_jobs=-1)]: Done  18 tasks      | elapsed:    3.2s\n",
      "[Parallel(n_jobs=-1)]: Done 100 out of 100 | elapsed:    4.2s finished\n",
      "[Parallel(n_jobs=-1)]: Using backend LokyBackend with 16 concurrent workers.\n"
     ]
    },
    {
     "name": "stdout",
     "output_type": "stream",
     "text": [
      "\n",
      "Mc len 100 21\n"
     ]
    },
    {
     "name": "stderr",
     "output_type": "stream",
     "text": [
      "[Parallel(n_jobs=-1)]: Done  18 tasks      | elapsed:    0.6s\n",
      "[Parallel(n_jobs=-1)]: Done 100 out of 100 | elapsed:    2.4s finished\n",
      "[Parallel(n_jobs=-1)]: Using backend LokyBackend with 16 concurrent workers.\n"
     ]
    },
    {
     "name": "stdout",
     "output_type": "stream",
     "text": [
      "\n",
      "Mc len 100 30\n"
     ]
    },
    {
     "name": "stderr",
     "output_type": "stream",
     "text": [
      "[Parallel(n_jobs=-1)]: Done  18 tasks      | elapsed:    1.1s\n",
      "[Parallel(n_jobs=-1)]: Done 100 out of 100 | elapsed:    3.9s finished\n",
      "[Parallel(n_jobs=-1)]: Using backend LokyBackend with 16 concurrent workers.\n"
     ]
    },
    {
     "name": "stdout",
     "output_type": "stream",
     "text": [
      "\n",
      "Mc len 100 43\n"
     ]
    },
    {
     "name": "stderr",
     "output_type": "stream",
     "text": [
      "[Parallel(n_jobs=-1)]: Done  18 tasks      | elapsed:    1.9s\n",
      "[Parallel(n_jobs=-1)]: Done 100 out of 100 | elapsed:    6.6s finished\n",
      "[Parallel(n_jobs=-1)]: Using backend LokyBackend with 16 concurrent workers.\n"
     ]
    },
    {
     "name": "stdout",
     "output_type": "stream",
     "text": [
      "\n",
      "Mc len 100 56\n"
     ]
    },
    {
     "name": "stderr",
     "output_type": "stream",
     "text": [
      "[Parallel(n_jobs=-1)]: Done  18 tasks      | elapsed:    3.0s\n",
      "[Parallel(n_jobs=-1)]: Done 100 out of 100 | elapsed:   10.3s finished\n"
     ]
    }
   ],
   "source": [
    "# test with mc length 100\n",
    "\n",
    "# simulation parameters\n",
    "n_steps = 100\n",
    "\n",
    "# parameters for exponential cooling function\n",
    "T_init = 1\n",
    "constant = 0.965\n",
    "temperature = cooling_exponential(n_steps, T_init, constant)\n",
    "\n",
    "results_100_test = {}\n",
    "for n_charges in n_charges_range:\n",
    "    print(f'\\nMc len 100 {n_charges}')\n",
    "\n",
    "    # initialize simulation\n",
    "    cc = CircleCharges(\n",
    "        n_charges, \n",
    "        n_attemps_per_run, \n",
    "        n_runs, \n",
    "        circle_radius, \n",
    "        n_steps, \n",
    "        stepsize_init, \n",
    "        stepsize_final, \n",
    "        random_influence, \n",
    "        force_influence, \n",
    "        temperature\n",
    "    )\n",
    "\n",
    "    # run the simulation\n",
    "    # cc.run()\n",
    "    cc.run_without_selection()\n",
    "\n",
    "    # # produce image \n",
    "    # savepath = f'figures/Mc_len_100_{n_charges}.pdf'\n",
    "    # cc.produce_figure(savepath=savepath)\n",
    "\n",
    "    # get results\n",
    "    results_100_test[n_charges] = cc.get_results()"
   ]
  },
  {
   "cell_type": "code",
   "execution_count": 69,
   "metadata": {},
   "outputs": [
    {
     "name": "stderr",
     "output_type": "stream",
     "text": [
      "[Parallel(n_jobs=-1)]: Using backend LokyBackend with 16 concurrent workers.\n"
     ]
    },
    {
     "name": "stdout",
     "output_type": "stream",
     "text": [
      "\n",
      "Mc len 12\n"
     ]
    },
    {
     "name": "stderr",
     "output_type": "stream",
     "text": [
      "[Parallel(n_jobs=-1)]: Done  18 tasks      | elapsed:    0.7s\n",
      "[Parallel(n_jobs=-1)]: Done 100 out of 100 | elapsed:    2.6s finished\n",
      "[Parallel(n_jobs=-1)]: Using backend LokyBackend with 16 concurrent workers.\n"
     ]
    },
    {
     "name": "stdout",
     "output_type": "stream",
     "text": [
      "\n",
      "Mc len 21\n"
     ]
    },
    {
     "name": "stderr",
     "output_type": "stream",
     "text": [
      "[Parallel(n_jobs=-1)]: Done  18 tasks      | elapsed:    1.4s\n",
      "[Parallel(n_jobs=-1)]: Done 100 out of 100 | elapsed:    4.9s finished\n",
      "[Parallel(n_jobs=-1)]: Using backend LokyBackend with 16 concurrent workers.\n"
     ]
    },
    {
     "name": "stdout",
     "output_type": "stream",
     "text": [
      "\n",
      "Mc len 30\n"
     ]
    },
    {
     "name": "stderr",
     "output_type": "stream",
     "text": [
      "[Parallel(n_jobs=-1)]: Done  18 tasks      | elapsed:    2.3s\n",
      "[Parallel(n_jobs=-1)]: Done 100 out of 100 | elapsed:    7.8s finished\n",
      "[Parallel(n_jobs=-1)]: Using backend LokyBackend with 16 concurrent workers.\n"
     ]
    },
    {
     "name": "stdout",
     "output_type": "stream",
     "text": [
      "\n",
      "Mc len 43\n"
     ]
    },
    {
     "name": "stderr",
     "output_type": "stream",
     "text": [
      "[Parallel(n_jobs=-1)]: Done  18 tasks      | elapsed:    3.9s\n",
      "[Parallel(n_jobs=-1)]: Done 100 out of 100 | elapsed:   13.2s finished\n",
      "[Parallel(n_jobs=-1)]: Using backend LokyBackend with 16 concurrent workers.\n"
     ]
    },
    {
     "name": "stdout",
     "output_type": "stream",
     "text": [
      "\n",
      "Mc len 56\n"
     ]
    },
    {
     "name": "stderr",
     "output_type": "stream",
     "text": [
      "[Parallel(n_jobs=-1)]: Done  18 tasks      | elapsed:    6.3s\n",
      "[Parallel(n_jobs=-1)]: Done 100 out of 100 | elapsed:   20.9s finished\n"
     ]
    }
   ],
   "source": [
    "# test with mc length 200\n",
    "\n",
    "# simulation parameters\n",
    "n_steps = 200\n",
    "\n",
    "# parameters for exponential cooling function\n",
    "T_init = 1\n",
    "constant = 0.965\n",
    "temperature = cooling_exponential(n_steps, T_init, constant)\n",
    "\n",
    "results_200_test = {}\n",
    "for n_charges in n_charges_range:\n",
    "    print(f'\\nMc len {n_charges}')\n",
    "\n",
    "    # initialize simulation\n",
    "    cc = CircleCharges(\n",
    "        n_charges, \n",
    "        n_attemps_per_run, \n",
    "        n_runs, \n",
    "        circle_radius, \n",
    "        n_steps, \n",
    "        stepsize_init, \n",
    "        stepsize_final, \n",
    "        random_influence, \n",
    "        force_influence, \n",
    "        temperature\n",
    "    )\n",
    "\n",
    "    # run the simulation\n",
    "    # cc.run()\n",
    "    cc.run_without_selection()\n",
    "\n",
    "    # # produce image \n",
    "    # savepath = f'figures/Mc_len_200_{n_charges}.pdf'\n",
    "    # cc.produce_figure(savepath=savepath)\n",
    "\n",
    "    # get results\n",
    "    results_200_test[n_charges] = cc.get_results()"
   ]
  },
  {
   "cell_type": "code",
   "execution_count": 70,
   "metadata": {},
   "outputs": [
    {
     "name": "stderr",
     "output_type": "stream",
     "text": [
      "[Parallel(n_jobs=-1)]: Using backend LokyBackend with 16 concurrent workers.\n"
     ]
    },
    {
     "name": "stdout",
     "output_type": "stream",
     "text": [
      "\n",
      "Mc len 400 12\n"
     ]
    },
    {
     "name": "stderr",
     "output_type": "stream",
     "text": [
      "[Parallel(n_jobs=-1)]: Done  18 tasks      | elapsed:    1.5s\n",
      "[Parallel(n_jobs=-1)]: Done 100 out of 100 | elapsed:    5.3s finished\n",
      "[Parallel(n_jobs=-1)]: Using backend LokyBackend with 16 concurrent workers.\n"
     ]
    },
    {
     "name": "stdout",
     "output_type": "stream",
     "text": [
      "\n",
      "Mc len 400 21\n"
     ]
    },
    {
     "name": "stderr",
     "output_type": "stream",
     "text": [
      "[Parallel(n_jobs=-1)]: Done  18 tasks      | elapsed:    2.9s\n",
      "[Parallel(n_jobs=-1)]: Done 100 out of 100 | elapsed:   10.1s finished\n",
      "[Parallel(n_jobs=-1)]: Using backend LokyBackend with 16 concurrent workers.\n"
     ]
    },
    {
     "name": "stdout",
     "output_type": "stream",
     "text": [
      "\n",
      "Mc len 400 30\n"
     ]
    },
    {
     "name": "stderr",
     "output_type": "stream",
     "text": [
      "[Parallel(n_jobs=-1)]: Done  18 tasks      | elapsed:    4.7s\n",
      "[Parallel(n_jobs=-1)]: Done 100 out of 100 | elapsed:   16.0s finished\n",
      "[Parallel(n_jobs=-1)]: Using backend LokyBackend with 16 concurrent workers.\n"
     ]
    },
    {
     "name": "stdout",
     "output_type": "stream",
     "text": [
      "\n",
      "Mc len 400 43\n"
     ]
    },
    {
     "name": "stderr",
     "output_type": "stream",
     "text": [
      "[Parallel(n_jobs=-1)]: Done  18 tasks      | elapsed:    8.0s\n",
      "[Parallel(n_jobs=-1)]: Done 100 out of 100 | elapsed:   26.7s finished\n",
      "[Parallel(n_jobs=-1)]: Using backend LokyBackend with 16 concurrent workers.\n"
     ]
    },
    {
     "name": "stdout",
     "output_type": "stream",
     "text": [
      "\n",
      "Mc len 400 56\n"
     ]
    },
    {
     "name": "stderr",
     "output_type": "stream",
     "text": [
      "[Parallel(n_jobs=-1)]: Done  18 tasks      | elapsed:   12.6s\n",
      "[Parallel(n_jobs=-1)]: Done 100 out of 100 | elapsed:   42.3s finished\n"
     ]
    }
   ],
   "source": [
    "# test with mc length 400\n",
    "\n",
    "# simulation parameters\n",
    "n_steps = 400\n",
    "\n",
    "# parameters for exponential cooling function\n",
    "T_init = 1\n",
    "constant = 0.965\n",
    "temperature = cooling_exponential(n_steps, T_init, constant)\n",
    "\n",
    "results_400_test = {}\n",
    "for n_charges in n_charges_range:\n",
    "    print(f'\\nMc len 400 {n_charges}')\n",
    "\n",
    "    # initialize simulation\n",
    "    cc = CircleCharges(\n",
    "        n_charges, \n",
    "        n_attemps_per_run, \n",
    "        n_runs, \n",
    "        circle_radius, \n",
    "        n_steps, \n",
    "        stepsize_init, \n",
    "        stepsize_final, \n",
    "        random_influence, \n",
    "        force_influence, \n",
    "        temperature\n",
    "    )\n",
    "\n",
    "    # run the simulation\n",
    "    # cc.run()\n",
    "    cc.run_without_selection()\n",
    "\n",
    "    # # produce image \n",
    "    # savepath = f'figures/Mc_len_400_{n_charges}.pdf'\n",
    "    # cc.produce_figure(savepath=savepath)\n",
    "\n",
    "    # get results\n",
    "    results_400_test[n_charges] = cc.get_results()"
   ]
  },
  {
   "cell_type": "code",
   "execution_count": 71,
   "metadata": {},
   "outputs": [
    {
     "data": {
      "text/html": [
       "<div>\n",
       "<style scoped>\n",
       "    .dataframe tbody tr th:only-of-type {\n",
       "        vertical-align: middle;\n",
       "    }\n",
       "\n",
       "    .dataframe tbody tr th {\n",
       "        vertical-align: top;\n",
       "    }\n",
       "\n",
       "    .dataframe thead th {\n",
       "        text-align: right;\n",
       "    }\n",
       "</style>\n",
       "<table border=\"1\" class=\"dataframe\">\n",
       "  <thead>\n",
       "    <tr style=\"text-align: right;\">\n",
       "      <th></th>\n",
       "      <th>100 steps 12</th>\n",
       "      <th>200 steps 12</th>\n",
       "      <th>400 steps 12</th>\n",
       "      <th>100 steps 21</th>\n",
       "      <th>200 steps 21</th>\n",
       "      <th>400 steps 21</th>\n",
       "      <th>100 steps 30</th>\n",
       "      <th>200 steps 30</th>\n",
       "      <th>400 steps 30</th>\n",
       "      <th>100 steps 43</th>\n",
       "      <th>200 steps 43</th>\n",
       "      <th>400 steps 43</th>\n",
       "      <th>100 steps 56</th>\n",
       "      <th>200 steps 56</th>\n",
       "      <th>400 steps 56</th>\n",
       "    </tr>\n",
       "  </thead>\n",
       "  <tbody>\n",
       "    <tr>\n",
       "      <th>Variability</th>\n",
       "      <td>1.000000</td>\n",
       "      <td>1.000000</td>\n",
       "      <td>1.000000</td>\n",
       "      <td>1.000000</td>\n",
       "      <td>1.000000</td>\n",
       "      <td>1.000000</td>\n",
       "      <td>1.000000</td>\n",
       "      <td>1.000000</td>\n",
       "      <td>1.000000</td>\n",
       "      <td>1.000000</td>\n",
       "      <td>1.000000</td>\n",
       "      <td>1.000000</td>\n",
       "      <td>1.000000</td>\n",
       "      <td>1.000000</td>\n",
       "      <td>1.000000</td>\n",
       "    </tr>\n",
       "    <tr>\n",
       "      <th>Minimum</th>\n",
       "      <td>59.724657</td>\n",
       "      <td>59.577455</td>\n",
       "      <td>59.576281</td>\n",
       "      <td>216.886170</td>\n",
       "      <td>216.485423</td>\n",
       "      <td>216.202798</td>\n",
       "      <td>480.123355</td>\n",
       "      <td>479.177268</td>\n",
       "      <td>479.156979</td>\n",
       "      <td>1054.261012</td>\n",
       "      <td>1054.031768</td>\n",
       "      <td>1054.531524</td>\n",
       "      <td>1864.469158</td>\n",
       "      <td>1863.760272</td>\n",
       "      <td>1863.475276</td>\n",
       "    </tr>\n",
       "    <tr>\n",
       "      <th>Maximum</th>\n",
       "      <td>62.755247</td>\n",
       "      <td>60.722765</td>\n",
       "      <td>60.689174</td>\n",
       "      <td>220.890423</td>\n",
       "      <td>219.783320</td>\n",
       "      <td>219.696190</td>\n",
       "      <td>485.492343</td>\n",
       "      <td>482.038500</td>\n",
       "      <td>483.966115</td>\n",
       "      <td>1062.915161</td>\n",
       "      <td>1061.708254</td>\n",
       "      <td>1058.893242</td>\n",
       "      <td>1877.923031</td>\n",
       "      <td>1877.078405</td>\n",
       "      <td>1873.217345</td>\n",
       "    </tr>\n",
       "    <tr>\n",
       "      <th>Mean</th>\n",
       "      <td>60.560682</td>\n",
       "      <td>59.721408</td>\n",
       "      <td>59.668948</td>\n",
       "      <td>218.181558</td>\n",
       "      <td>217.026149</td>\n",
       "      <td>217.011709</td>\n",
       "      <td>482.019393</td>\n",
       "      <td>480.638464</td>\n",
       "      <td>480.413291</td>\n",
       "      <td>1058.008601</td>\n",
       "      <td>1056.561563</td>\n",
       "      <td>1056.344885</td>\n",
       "      <td>1869.485725</td>\n",
       "      <td>1867.532705</td>\n",
       "      <td>1867.311575</td>\n",
       "    </tr>\n",
       "    <tr>\n",
       "      <th>Standard deviation</th>\n",
       "      <td>0.576700</td>\n",
       "      <td>0.362461</td>\n",
       "      <td>0.301249</td>\n",
       "      <td>0.849404</td>\n",
       "      <td>0.649403</td>\n",
       "      <td>0.654814</td>\n",
       "      <td>1.260172</td>\n",
       "      <td>0.882465</td>\n",
       "      <td>0.946433</td>\n",
       "      <td>1.598470</td>\n",
       "      <td>1.437328</td>\n",
       "      <td>1.373973</td>\n",
       "      <td>2.406837</td>\n",
       "      <td>2.017991</td>\n",
       "      <td>2.073782</td>\n",
       "    </tr>\n",
       "  </tbody>\n",
       "</table>\n",
       "</div>"
      ],
      "text/plain": [
       "                    100 steps 12  200 steps 12  400 steps 12  100 steps 21  \\\n",
       "Variability             1.000000      1.000000      1.000000      1.000000   \n",
       "Minimum                59.724657     59.577455     59.576281    216.886170   \n",
       "Maximum                62.755247     60.722765     60.689174    220.890423   \n",
       "Mean                   60.560682     59.721408     59.668948    218.181558   \n",
       "Standard deviation      0.576700      0.362461      0.301249      0.849404   \n",
       "\n",
       "                    200 steps 21  400 steps 21  100 steps 30  200 steps 30  \\\n",
       "Variability             1.000000      1.000000      1.000000      1.000000   \n",
       "Minimum               216.485423    216.202798    480.123355    479.177268   \n",
       "Maximum               219.783320    219.696190    485.492343    482.038500   \n",
       "Mean                  217.026149    217.011709    482.019393    480.638464   \n",
       "Standard deviation      0.649403      0.654814      1.260172      0.882465   \n",
       "\n",
       "                    400 steps 30  100 steps 43  200 steps 43  400 steps 43  \\\n",
       "Variability             1.000000      1.000000      1.000000      1.000000   \n",
       "Minimum               479.156979   1054.261012   1054.031768   1054.531524   \n",
       "Maximum               483.966115   1062.915161   1061.708254   1058.893242   \n",
       "Mean                  480.413291   1058.008601   1056.561563   1056.344885   \n",
       "Standard deviation      0.946433      1.598470      1.437328      1.373973   \n",
       "\n",
       "                    100 steps 56  200 steps 56  400 steps 56  \n",
       "Variability             1.000000      1.000000      1.000000  \n",
       "Minimum              1864.469158   1863.760272   1863.475276  \n",
       "Maximum              1877.923031   1877.078405   1873.217345  \n",
       "Mean                 1869.485725   1867.532705   1867.311575  \n",
       "Standard deviation      2.406837      2.017991      2.073782  "
      ]
     },
     "execution_count": 71,
     "metadata": {},
     "output_type": "execute_result"
    }
   ],
   "source": [
    "index = ['Variability', 'Minimum', 'Maximum', 'Mean', 'Standard deviation']\n",
    "\n",
    "dct = {}\n",
    "for n_charges in n_charges_range:\n",
    "    dct[f'100 steps {n_charges}'] = results_100_test[n_charges].values()\n",
    "    dct[f'200 steps {n_charges}'] = results_200_test[n_charges].values()\n",
    "    dct[f'400 steps {n_charges}'] = results_400_test[n_charges].values()\n",
    "\n",
    "df = pd.DataFrame(dct, index=index)\n",
    "df"
   ]
  },
  {
   "cell_type": "code",
   "execution_count": 88,
   "metadata": {},
   "outputs": [
    {
     "data": {
      "image/png": "[encoded data removed]",
      "text/plain": [
       "<Figure size 504x432 with 1 Axes>"
      ]
     },
     "metadata": {
      "needs_background": "light"
     },
     "output_type": "display_data"
    },
    {
     "data": {
      "image/png": "[encoded data removed]",
      "text/plain": [
       "<Figure size 576x504 with 1 Axes>"
      ]
     },
     "metadata": {
      "needs_background": "light"
     },
     "output_type": "display_data"
    }
   ],
   "source": [
    "\n",
    "varias = np.zeros((len(n_charges_range), 3))\n",
    "means = np.zeros((len(n_charges_range), 3))\n",
    "stds = np.zeros((len(n_charges_range), 3))\n",
    "\n",
    "for i, result_dict in enumerate([results_100_test, results_200_test, results_400_test]):\n",
    "    for j, n_charges in enumerate(n_charges_range):\n",
    "        means[j][i] = result_dict[n_charges]['min_energy']\n",
    "        stds[j][i] = result_dict[n_charges]['std_energy']\n",
    "        varias[j][i] = result_dict[n_charges]['variability']\n",
    "\n",
    "\n",
    "# plt.title('Variability')\n",
    "# plt.plot(n_charges_range, varias[:, 0] - varias.mean(axis=1), label='100 steps')\n",
    "# plt.plot(n_charges_range, varias[:, 1] - varias.mean(axis=1), label='200 steps')\n",
    "# plt.plot(n_charges_range, varias[:, 2] - varias.mean(axis=1), label='400 steps')\n",
    "# plt.legend()\n",
    "# plt.show()\n",
    "\n",
    "plt.figure(figsize=(8, 7))\n",
    "plt.title('Mean energy after 100 runs')\n",
    "plt.errorbar(n_charges_range, means[:, 0] - means.mean(axis=1), stds[:, 0], capsize=5, label='100 steps', ls=':')\n",
    "plt.errorbar(n_charges_range, means[:, 1] - means.mean(axis=1), stds[:, 0], capsize=5, label='200 steps', ls=':')\n",
    "plt.errorbar(n_charges_range, means[:, 2] - means.mean(axis=1), stds[:, 0], capsize=5, label='400 steps', ls=':')\n",
    "plt.legend()\n",
    "plt.title('Mean energy after 100 runs')\n",
    "# plt.xlim(min(n_charges_range), max(n_charges_range))\n",
    "plt.xlabel('N charges')\n",
    "plt.ylabel('Energy')\n",
    "plt.tight_layout()\n",
    "plt.savefig('figures/test_mc_length.pdf')\n",
    "plt.show()"
   ]
  },
  {
   "cell_type": "code",
   "execution_count": 63,
   "metadata": {},
   "outputs": [
    {
     "name": "stdout",
     "output_type": "stream",
     "text": [
      "\n",
      "Var25 12\n"
     ]
    },
    {
     "name": "stderr",
     "output_type": "stream",
     "text": [
      "[Parallel(n_jobs=-1)]: Using backend LokyBackend with 16 concurrent workers.\n",
      "[Parallel(n_jobs=-1)]: Done  18 tasks      | elapsed:    1.6s\n",
      "[Parallel(n_jobs=-1)]: Done 100 out of 100 | elapsed:    5.7s finished\n",
      "[Parallel(n_jobs=-1)]: Using backend LokyBackend with 16 concurrent workers.\n"
     ]
    },
    {
     "name": "stdout",
     "output_type": "stream",
     "text": [
      "\n",
      "Var25 21\n"
     ]
    },
    {
     "name": "stderr",
     "output_type": "stream",
     "text": [
      "[Parallel(n_jobs=-1)]: Done  18 tasks      | elapsed:    3.0s\n",
      "[Parallel(n_jobs=-1)]: Done 100 out of 100 | elapsed:   10.6s finished\n",
      "[Parallel(n_jobs=-1)]: Using backend LokyBackend with 16 concurrent workers.\n"
     ]
    },
    {
     "name": "stdout",
     "output_type": "stream",
     "text": [
      "\n",
      "Var25 30\n"
     ]
    },
    {
     "name": "stderr",
     "output_type": "stream",
     "text": [
      "[Parallel(n_jobs=-1)]: Done  18 tasks      | elapsed:    4.9s\n",
      "[Parallel(n_jobs=-1)]: Done 100 out of 100 | elapsed:   16.6s finished\n",
      "[Parallel(n_jobs=-1)]: Using backend LokyBackend with 16 concurrent workers.\n"
     ]
    },
    {
     "name": "stdout",
     "output_type": "stream",
     "text": [
      "\n",
      "Var25 43\n"
     ]
    },
    {
     "name": "stderr",
     "output_type": "stream",
     "text": [
      "[Parallel(n_jobs=-1)]: Done  18 tasks      | elapsed:    8.0s\n",
      "[Parallel(n_jobs=-1)]: Done 100 out of 100 | elapsed:   27.2s finished\n",
      "[Parallel(n_jobs=-1)]: Using backend LokyBackend with 16 concurrent workers.\n"
     ]
    },
    {
     "name": "stdout",
     "output_type": "stream",
     "text": [
      "\n",
      "Var25 56\n"
     ]
    },
    {
     "name": "stderr",
     "output_type": "stream",
     "text": [
      "[Parallel(n_jobs=-1)]: Done  18 tasks      | elapsed:   12.8s\n",
      "[Parallel(n_jobs=-1)]: Done 100 out of 100 | elapsed:   42.5s finished\n"
     ]
    }
   ],
   "source": [
    "# test with stepsize to 0.1\n",
    "\n",
    "# simulation parameters\n",
    "n_steps = 400\n",
    "stepsize_init = 0.05\n",
    "stepsize_final = 0.025\n",
    "\n",
    "# parameters for exponential cooling function\n",
    "T_init = 1\n",
    "constant = 0.965\n",
    "temperature = cooling_exponential(n_steps, T_init, constant)\n",
    "\n",
    "results_var25_test = {}\n",
    "for n_charges in n_charges_range:\n",
    "    print(f'\\nVar25 {n_charges}')\n",
    "\n",
    "    # initialize simulation\n",
    "    cc = CircleCharges(\n",
    "        n_charges, \n",
    "        n_attemps_per_run, \n",
    "        n_runs, \n",
    "        circle_radius, \n",
    "        n_steps, \n",
    "        stepsize_init, \n",
    "        stepsize_final, \n",
    "        random_influence, \n",
    "        force_influence, \n",
    "        temperature\n",
    "    )\n",
    "\n",
    "    # run the simulation\n",
    "    # cc.run()\n",
    "    cc.run_without_selection()\n",
    "\n",
    "    # # produce image \n",
    "    # savepath = f'figures/Var25_{n_charges}.pdf'\n",
    "    # cc.produce_figure(savepath=savepath)\n",
    "\n",
    "    # get results\n",
    "    results_var25_test[n_charges] = cc.get_results()"
   ]
  },
  {
   "cell_type": "code",
   "execution_count": 64,
   "metadata": {},
   "outputs": [
    {
     "name": "stderr",
     "output_type": "stream",
     "text": [
      "[Parallel(n_jobs=-1)]: Using backend LokyBackend with 16 concurrent workers.\n"
     ]
    },
    {
     "name": "stdout",
     "output_type": "stream",
     "text": [
      "\n",
      "Var1 12\n"
     ]
    },
    {
     "name": "stderr",
     "output_type": "stream",
     "text": [
      "[Parallel(n_jobs=-1)]: Done  18 tasks      | elapsed:    1.5s\n",
      "[Parallel(n_jobs=-1)]: Done 100 out of 100 | elapsed:    5.3s finished\n",
      "[Parallel(n_jobs=-1)]: Using backend LokyBackend with 16 concurrent workers.\n"
     ]
    },
    {
     "name": "stdout",
     "output_type": "stream",
     "text": [
      "\n",
      "Var1 21\n"
     ]
    },
    {
     "name": "stderr",
     "output_type": "stream",
     "text": [
      "[Parallel(n_jobs=-1)]: Done  18 tasks      | elapsed:    2.9s\n",
      "[Parallel(n_jobs=-1)]: Done 100 out of 100 | elapsed:   10.0s finished\n",
      "[Parallel(n_jobs=-1)]: Using backend LokyBackend with 16 concurrent workers.\n"
     ]
    },
    {
     "name": "stdout",
     "output_type": "stream",
     "text": [
      "\n",
      "Var1 30\n"
     ]
    },
    {
     "name": "stderr",
     "output_type": "stream",
     "text": [
      "[Parallel(n_jobs=-1)]: Done  18 tasks      | elapsed:    4.7s\n",
      "[Parallel(n_jobs=-1)]: Done 100 out of 100 | elapsed:   15.9s finished\n",
      "[Parallel(n_jobs=-1)]: Using backend LokyBackend with 16 concurrent workers.\n"
     ]
    },
    {
     "name": "stdout",
     "output_type": "stream",
     "text": [
      "\n",
      "Var1 43\n"
     ]
    },
    {
     "name": "stderr",
     "output_type": "stream",
     "text": [
      "[Parallel(n_jobs=-1)]: Done  18 tasks      | elapsed:    7.9s\n",
      "[Parallel(n_jobs=-1)]: Done 100 out of 100 | elapsed:   26.6s finished\n",
      "[Parallel(n_jobs=-1)]: Using backend LokyBackend with 16 concurrent workers.\n"
     ]
    },
    {
     "name": "stdout",
     "output_type": "stream",
     "text": [
      "\n",
      "Var1 56\n"
     ]
    },
    {
     "name": "stderr",
     "output_type": "stream",
     "text": [
      "[Parallel(n_jobs=-1)]: Done  18 tasks      | elapsed:   12.6s\n",
      "[Parallel(n_jobs=-1)]: Done 100 out of 100 | elapsed:   42.1s finished\n"
     ]
    }
   ],
   "source": [
    "# test with stepsize to 0.1\n",
    "\n",
    "# simulation parameters\n",
    "stepsize_init = 0.05\n",
    "stepsize_final = 0.01\n",
    "\n",
    "\n",
    "results_var1_test = {}\n",
    "for n_charges in n_charges_range:\n",
    "    print(f'\\nVar1 {n_charges}')\n",
    "\n",
    "    # initialize simulation\n",
    "    cc = CircleCharges(\n",
    "        n_charges, \n",
    "        n_attemps_per_run, \n",
    "        n_runs, \n",
    "        circle_radius, \n",
    "        n_steps, \n",
    "        stepsize_init, \n",
    "        stepsize_final, \n",
    "        random_influence, \n",
    "        force_influence, \n",
    "        temperature\n",
    "    )\n",
    "\n",
    "    # run the simulation\n",
    "    # cc.run()\n",
    "    cc.run_without_selection()\n",
    "\n",
    "    # # produce image \n",
    "    # savepath = f'figures/Var1_{n_charges}.pdf'\n",
    "    # cc.produce_figure(savepath=savepath)\n",
    "\n",
    "    # get results\n",
    "    results_var1_test[n_charges] = cc.get_results()"
   ]
  },
  {
   "cell_type": "code",
   "execution_count": 65,
   "metadata": {},
   "outputs": [
    {
     "name": "stderr",
     "output_type": "stream",
     "text": [
      "[Parallel(n_jobs=-1)]: Using backend LokyBackend with 16 concurrent workers.\n"
     ]
    },
    {
     "name": "stdout",
     "output_type": "stream",
     "text": [
      "\n",
      "Var05 12\n"
     ]
    },
    {
     "name": "stderr",
     "output_type": "stream",
     "text": [
      "[Parallel(n_jobs=-1)]: Done  18 tasks      | elapsed:    1.5s\n",
      "[Parallel(n_jobs=-1)]: Done 100 out of 100 | elapsed:    5.3s finished\n",
      "[Parallel(n_jobs=-1)]: Using backend LokyBackend with 16 concurrent workers.\n"
     ]
    },
    {
     "name": "stdout",
     "output_type": "stream",
     "text": [
      "\n",
      "Var05 21\n"
     ]
    },
    {
     "name": "stderr",
     "output_type": "stream",
     "text": [
      "[Parallel(n_jobs=-1)]: Done  18 tasks      | elapsed:    2.9s\n",
      "[Parallel(n_jobs=-1)]: Done 100 out of 100 | elapsed:   10.1s finished\n",
      "[Parallel(n_jobs=-1)]: Using backend LokyBackend with 16 concurrent workers.\n"
     ]
    },
    {
     "name": "stdout",
     "output_type": "stream",
     "text": [
      "\n",
      "Var05 30\n"
     ]
    },
    {
     "name": "stderr",
     "output_type": "stream",
     "text": [
      "[Parallel(n_jobs=-1)]: Done  18 tasks      | elapsed:    4.7s\n",
      "[Parallel(n_jobs=-1)]: Done 100 out of 100 | elapsed:   15.8s finished\n",
      "[Parallel(n_jobs=-1)]: Using backend LokyBackend with 16 concurrent workers.\n"
     ]
    },
    {
     "name": "stdout",
     "output_type": "stream",
     "text": [
      "\n",
      "Var05 43\n"
     ]
    },
    {
     "name": "stderr",
     "output_type": "stream",
     "text": [
      "[Parallel(n_jobs=-1)]: Done  18 tasks      | elapsed:    8.0s\n",
      "[Parallel(n_jobs=-1)]: Done 100 out of 100 | elapsed:   26.6s finished\n",
      "[Parallel(n_jobs=-1)]: Using backend LokyBackend with 16 concurrent workers.\n"
     ]
    },
    {
     "name": "stdout",
     "output_type": "stream",
     "text": [
      "\n",
      "Var05 56\n"
     ]
    },
    {
     "name": "stderr",
     "output_type": "stream",
     "text": [
      "[Parallel(n_jobs=-1)]: Done  18 tasks      | elapsed:   12.7s\n",
      "[Parallel(n_jobs=-1)]: Done 100 out of 100 | elapsed:   42.2s finished\n"
     ]
    }
   ],
   "source": [
    "# test with stepsize to 0.1\n",
    "\n",
    "# simulation parameters\n",
    "stepsize_init = 0.05\n",
    "stepsize_final = 0.005\n",
    "\n",
    "results_var05_test = {}\n",
    "for n_charges in n_charges_range:\n",
    "    print(f'\\nVar05 {n_charges}')\n",
    "\n",
    "    # initialize simulation\n",
    "    cc = CircleCharges(\n",
    "        n_charges, \n",
    "        n_attemps_per_run, \n",
    "        n_runs, \n",
    "        circle_radius, \n",
    "        n_steps, \n",
    "        stepsize_init, \n",
    "        stepsize_final, \n",
    "        random_influence, \n",
    "        force_influence, \n",
    "        temperature\n",
    "    )\n",
    "\n",
    "    # run the simulation\n",
    "    # cc.run()\n",
    "    cc.run_without_selection()\n",
    "\n",
    "    # # produce image \n",
    "    # savepath = f'figures/Var05_{n_charges}.pdf'\n",
    "    # cc.produce_figure(savepath=savepath)\n",
    "\n",
    "    # get results\n",
    "    results_var05_test[n_charges] = cc.get_results()"
   ]
  },
  {
   "cell_type": "code",
   "execution_count": 66,
   "metadata": {},
   "outputs": [
    {
     "data": {
      "text/html": [
       "<div>\n",
       "<style scoped>\n",
       "    .dataframe tbody tr th:only-of-type {\n",
       "        vertical-align: middle;\n",
       "    }\n",
       "\n",
       "    .dataframe tbody tr th {\n",
       "        vertical-align: top;\n",
       "    }\n",
       "\n",
       "    .dataframe thead th {\n",
       "        text-align: right;\n",
       "    }\n",
       "</style>\n",
       "<table border=\"1\" class=\"dataframe\">\n",
       "  <thead>\n",
       "    <tr style=\"text-align: right;\">\n",
       "      <th></th>\n",
       "      <th>No decrease, n=12</th>\n",
       "      <th>To 0.025, n=12</th>\n",
       "      <th>To 0.01, n=12</th>\n",
       "      <th>To 0.005, n=12</th>\n",
       "      <th>No decrease, n=21</th>\n",
       "      <th>To 0.025, n=21</th>\n",
       "      <th>To 0.01, n=21</th>\n",
       "      <th>To 0.005, n=21</th>\n",
       "      <th>No decrease, n=30</th>\n",
       "      <th>To 0.025, n=30</th>\n",
       "      <th>To 0.01, n=30</th>\n",
       "      <th>To 0.005, n=30</th>\n",
       "      <th>No decrease, n=43</th>\n",
       "      <th>To 0.025, n=43</th>\n",
       "      <th>To 0.01, n=43</th>\n",
       "      <th>To 0.005, n=43</th>\n",
       "      <th>No decrease, n=56</th>\n",
       "      <th>To 0.025, n=56</th>\n",
       "      <th>To 0.01, n=56</th>\n",
       "      <th>To 0.005, n=56</th>\n",
       "    </tr>\n",
       "  </thead>\n",
       "  <tbody>\n",
       "    <tr>\n",
       "      <th>Variability</th>\n",
       "      <td>1.000000</td>\n",
       "      <td>1.000000</td>\n",
       "      <td>1.000000</td>\n",
       "      <td>1.000000</td>\n",
       "      <td>1.000000</td>\n",
       "      <td>1.000000</td>\n",
       "      <td>1.000000</td>\n",
       "      <td>1.000000</td>\n",
       "      <td>1.000000</td>\n",
       "      <td>1.000000</td>\n",
       "      <td>1.000000</td>\n",
       "      <td>1.000000</td>\n",
       "      <td>1.000000</td>\n",
       "      <td>1.000000</td>\n",
       "      <td>1.000000</td>\n",
       "      <td>1.000000</td>\n",
       "      <td>1.000000</td>\n",
       "      <td>1.000000</td>\n",
       "      <td>1.000000</td>\n",
       "      <td>1.000000</td>\n",
       "    </tr>\n",
       "    <tr>\n",
       "      <th>Minimum</th>\n",
       "      <td>59.601113</td>\n",
       "      <td>59.592528</td>\n",
       "      <td>59.578252</td>\n",
       "      <td>59.576423</td>\n",
       "      <td>216.686412</td>\n",
       "      <td>216.455804</td>\n",
       "      <td>216.280527</td>\n",
       "      <td>216.205710</td>\n",
       "      <td>480.212289</td>\n",
       "      <td>479.930833</td>\n",
       "      <td>479.200667</td>\n",
       "      <td>479.197358</td>\n",
       "      <td>1056.570426</td>\n",
       "      <td>1054.941211</td>\n",
       "      <td>1054.212087</td>\n",
       "      <td>1053.704966</td>\n",
       "      <td>1868.567975</td>\n",
       "      <td>1865.541002</td>\n",
       "      <td>1864.416518</td>\n",
       "      <td>1863.691833</td>\n",
       "    </tr>\n",
       "    <tr>\n",
       "      <th>Maximum</th>\n",
       "      <td>60.785581</td>\n",
       "      <td>60.727419</td>\n",
       "      <td>60.697102</td>\n",
       "      <td>60.692308</td>\n",
       "      <td>218.327219</td>\n",
       "      <td>219.848956</td>\n",
       "      <td>217.823066</td>\n",
       "      <td>219.776590</td>\n",
       "      <td>485.089077</td>\n",
       "      <td>482.690165</td>\n",
       "      <td>484.183232</td>\n",
       "      <td>481.937676</td>\n",
       "      <td>1061.875927</td>\n",
       "      <td>1062.406240</td>\n",
       "      <td>1059.313462</td>\n",
       "      <td>1059.033835</td>\n",
       "      <td>1877.930911</td>\n",
       "      <td>1874.944719</td>\n",
       "      <td>1873.360839</td>\n",
       "      <td>1873.027358</td>\n",
       "    </tr>\n",
       "    <tr>\n",
       "      <th>Mean</th>\n",
       "      <td>59.767094</td>\n",
       "      <td>59.722207</td>\n",
       "      <td>59.684231</td>\n",
       "      <td>59.780016</td>\n",
       "      <td>217.269491</td>\n",
       "      <td>217.202812</td>\n",
       "      <td>217.124457</td>\n",
       "      <td>217.073478</td>\n",
       "      <td>481.640022</td>\n",
       "      <td>480.934674</td>\n",
       "      <td>480.617013</td>\n",
       "      <td>480.492002</td>\n",
       "      <td>1058.999082</td>\n",
       "      <td>1057.421189</td>\n",
       "      <td>1056.644081</td>\n",
       "      <td>1056.489109</td>\n",
       "      <td>1873.006598</td>\n",
       "      <td>1869.635320</td>\n",
       "      <td>1868.027770</td>\n",
       "      <td>1867.172674</td>\n",
       "    </tr>\n",
       "    <tr>\n",
       "      <th>Standard deviation</th>\n",
       "      <td>0.345393</td>\n",
       "      <td>0.329900</td>\n",
       "      <td>0.317144</td>\n",
       "      <td>0.426009</td>\n",
       "      <td>0.520838</td>\n",
       "      <td>0.644897</td>\n",
       "      <td>0.599037</td>\n",
       "      <td>0.659773</td>\n",
       "      <td>0.979956</td>\n",
       "      <td>0.794548</td>\n",
       "      <td>0.989260</td>\n",
       "      <td>0.817864</td>\n",
       "      <td>1.369352</td>\n",
       "      <td>1.365942</td>\n",
       "      <td>1.270022</td>\n",
       "      <td>1.368443</td>\n",
       "      <td>1.943816</td>\n",
       "      <td>2.156921</td>\n",
       "      <td>1.747372</td>\n",
       "      <td>1.985237</td>\n",
       "    </tr>\n",
       "  </tbody>\n",
       "</table>\n",
       "</div>"
      ],
      "text/plain": [
       "                    No decrease, n=12  To 0.025, n=12  To 0.01, n=12  \\\n",
       "Variability                  1.000000        1.000000       1.000000   \n",
       "Minimum                     59.601113       59.592528      59.578252   \n",
       "Maximum                     60.785581       60.727419      60.697102   \n",
       "Mean                        59.767094       59.722207      59.684231   \n",
       "Standard deviation           0.345393        0.329900       0.317144   \n",
       "\n",
       "                    To 0.005, n=12  No decrease, n=21  To 0.025, n=21  \\\n",
       "Variability               1.000000           1.000000        1.000000   \n",
       "Minimum                  59.576423         216.686412      216.455804   \n",
       "Maximum                  60.692308         218.327219      219.848956   \n",
       "Mean                     59.780016         217.269491      217.202812   \n",
       "Standard deviation        0.426009           0.520838        0.644897   \n",
       "\n",
       "                    To 0.01, n=21  To 0.005, n=21  No decrease, n=30  \\\n",
       "Variability              1.000000        1.000000           1.000000   \n",
       "Minimum                216.280527      216.205710         480.212289   \n",
       "Maximum                217.823066      219.776590         485.089077   \n",
       "Mean                   217.124457      217.073478         481.640022   \n",
       "Standard deviation       0.599037        0.659773           0.979956   \n",
       "\n",
       "                    To 0.025, n=30  To 0.01, n=30  To 0.005, n=30  \\\n",
       "Variability               1.000000       1.000000        1.000000   \n",
       "Minimum                 479.930833     479.200667      479.197358   \n",
       "Maximum                 482.690165     484.183232      481.937676   \n",
       "Mean                    480.934674     480.617013      480.492002   \n",
       "Standard deviation        0.794548       0.989260        0.817864   \n",
       "\n",
       "                    No decrease, n=43  To 0.025, n=43  To 0.01, n=43  \\\n",
       "Variability                  1.000000        1.000000       1.000000   \n",
       "Minimum                   1056.570426     1054.941211    1054.212087   \n",
       "Maximum                   1061.875927     1062.406240    1059.313462   \n",
       "Mean                      1058.999082     1057.421189    1056.644081   \n",
       "Standard deviation           1.369352        1.365942       1.270022   \n",
       "\n",
       "                    To 0.005, n=43  No decrease, n=56  To 0.025, n=56  \\\n",
       "Variability               1.000000           1.000000        1.000000   \n",
       "Minimum                1053.704966        1868.567975     1865.541002   \n",
       "Maximum                1059.033835        1877.930911     1874.944719   \n",
       "Mean                   1056.489109        1873.006598     1869.635320   \n",
       "Standard deviation        1.368443           1.943816        2.156921   \n",
       "\n",
       "                    To 0.01, n=56  To 0.005, n=56  \n",
       "Variability              1.000000        1.000000  \n",
       "Minimum               1864.416518     1863.691833  \n",
       "Maximum               1873.360839     1873.027358  \n",
       "Mean                  1868.027770     1867.172674  \n",
       "Standard deviation       1.747372        1.985237  "
      ]
     },
     "execution_count": 66,
     "metadata": {},
     "output_type": "execute_result"
    }
   ],
   "source": [
    "index = ['Variability', 'Minimum', 'Maximum', 'Mean', 'Standard deviation']\n",
    "\n",
    "dct = {}\n",
    "for n_charges in n_charges_range:\n",
    "    dct[f'No decrease, n={n_charges}'] = results_400_test[n_charges].values()\n",
    "    dct[f'To 0.025, n={n_charges}'] = results_var25_test[n_charges].values()\n",
    "    dct[f'To 0.01, n={n_charges}'] = results_var1_test[n_charges].values()\n",
    "    dct[f'To 0.005, n={n_charges}'] = results_var05_test[n_charges].values()\n",
    "\n",
    "df = pd.DataFrame(dct, index=index)\n",
    "df"
   ]
  },
  {
   "cell_type": "code",
   "execution_count": 87,
   "metadata": {},
   "outputs": [
    {
     "data": {
      "image/png": "[encoded data removed]",
      "text/plain": [
       "<Figure size 576x504 with 1 Axes>"
      ]
     },
     "metadata": {
      "needs_background": "light"
     },
     "output_type": "display_data"
    }
   ],
   "source": [
    "\n",
    "varias = np.zeros((len(n_charges_range), 4))\n",
    "means = np.zeros((len(n_charges_range), 4))\n",
    "stds = np.zeros((len(n_charges_range), 4))\n",
    "\n",
    "for i, result_dict in enumerate([results_400_test, results_var25_test, results_var1_test, results_var05_test]):\n",
    "    for j, n_charges in enumerate(n_charges_range):\n",
    "        means[j][i] = result_dict[n_charges]['min_energy']\n",
    "        stds[j][i] = result_dict[n_charges]['std_energy']\n",
    "        varias[j][i] = result_dict[n_charges]['variability']\n",
    "\n",
    "\n",
    "\n",
    "# plt.title('Variability')\n",
    "# plt.plot(n_charges_range, varias[:, 0] - varias.mean(axis=1), label='No descrease')\n",
    "# plt.plot(n_charges_range, varias[:, 1] - varias.mean(axis=1), label='To 0.025')\n",
    "# plt.plot(n_charges_range, varias[:, 2] - varias.mean(axis=1), label='To 0.01')\n",
    "# plt.plot(n_charges_range, varias[:, 3] - varias.mean(axis=1), label='To 0.005')\n",
    "# plt.legend()\n",
    "# plt.show()\n",
    "\n",
    "\n",
    "plt.figure(figsize=(8, 7))\n",
    "plt.errorbar(n_charges_range, means[:, 0] - means.mean(axis=1), stds[:, 0], capsize=5, label='No decrease', ls=':')\n",
    "plt.errorbar(n_charges_range, means[:, 1] - means.mean(axis=1), stds[:, 0], capsize=5, label='To 0.025', ls=':')\n",
    "plt.errorbar(n_charges_range, means[:, 2] - means.mean(axis=1), stds[:, 0], capsize=5, label='To 0.01', ls=':')\n",
    "plt.errorbar(n_charges_range, means[:, 3] - means.mean(axis=1), stds[:, 0], capsize=5, label='To 0.005', ls=':')\n",
    "plt.legend()\n",
    "plt.title('Mean energy after 100 runs')\n",
    "# plt.xlim(min(n_charges_range), max(n_charges_range))\n",
    "plt.xlabel('N charges')\n",
    "plt.ylabel('Energy')\n",
    "plt.tight_layout()\n",
    "plt.savefig('figures/test_decrease.pdf')\n",
    "plt.show()"
   ]
  },
  {
   "cell_type": "code",
   "execution_count": 78,
   "metadata": {},
   "outputs": [
    {
     "data": {
      "text/plain": [
       "{12: {'variability': 1,\n",
       "  'min_energy': 59.59252800492122,\n",
       "  'max_energy': 60.72741946993122,\n",
       "  'mean_energy': 59.722207268895914,\n",
       "  'std_energy': 0.32990005820914936},\n",
       " 21: {'variability': 1,\n",
       "  'min_energy': 216.45580426439255,\n",
       "  'max_energy': 219.848955786966,\n",
       "  'mean_energy': 217.20281206485822,\n",
       "  'std_energy': 0.6448968056561353},\n",
       " 30: {'variability': 1,\n",
       "  'min_energy': 479.93083271423745,\n",
       "  'max_energy': 482.69016533284594,\n",
       "  'mean_energy': 480.9346737144112,\n",
       "  'std_energy': 0.794547692713311},\n",
       " 43: {'variability': 1,\n",
       "  'min_energy': 1054.9412109647117,\n",
       "  'max_energy': 1062.4062403260157,\n",
       "  'mean_energy': 1057.4211892977212,\n",
       "  'std_energy': 1.3659415041592244},\n",
       " 56: {'variability': 1,\n",
       "  'min_energy': 1865.5410016649787,\n",
       "  'max_energy': 1874.944718525498,\n",
       "  'mean_energy': 1869.635319984391,\n",
       "  'std_energy': 2.1569214749192813}}"
      ]
     },
     "execution_count": 78,
     "metadata": {},
     "output_type": "execute_result"
    }
   ],
   "source": [
    "results_var25_test"
   ]
  },
  {
   "cell_type": "code",
   "execution_count": 97,
   "metadata": {},
   "outputs": [
    {
     "name": "stderr",
     "output_type": "stream",
     "text": [
      "simulation: 100%|██████████| 1/1 [01:17<00:00, 77.78s/it]\n"
     ]
    },
    {
     "data": {
      "image/png": "[encoded data removed]",
      "text/plain": [
       "<Figure size 432x432 with 1 Axes>"
      ]
     },
     "metadata": {},
     "output_type": "display_data"
    }
   ],
   "source": [
    "\n",
    "# simulation setings\n",
    "n_attemps_per_run = 100\n",
    "n_runs = 1\n",
    "circle_radius = 1\n",
    "\n",
    "# simulation parameters\n",
    "n_steps = 400\n",
    "\n",
    "stepsize_init = 0.05\n",
    "stepsize_final = 0.005\n",
    "random_influence = 1\n",
    "force_influence = 1\n",
    "\n",
    "# parameters for exponential cooling function\n",
    "T_init = 1\n",
    "constant = 0.965\n",
    "temperature = cooling_exponential(n_steps, T_init, constant)\n",
    "\n",
    "# n_charges_range = [55]\n",
    "n_charges_range = [11, 12, 29, 30, 55, 56, 91, 92]\n",
    "\n",
    "\n",
    "for n_charges in n_charges_range:\n",
    "\n",
    "\n",
    "    cc = CircleCharges(\n",
    "        n_charges, \n",
    "        n_attemps_per_run, \n",
    "        n_runs, \n",
    "        circle_radius, \n",
    "        n_steps, \n",
    "        stepsize_init, \n",
    "        stepsize_final, \n",
    "        random_influence, \n",
    "        force_influence, \n",
    "        temperature\n",
    "    )\n",
    "    cc.run()\n",
    "\n",
    "    pos = cc.choose_best_run(cc.best_runs)[0]\n",
    "\n",
    "    plt.figure(figsize=(6, 6))\n",
    "    plt.box(False)\n",
    "    plt.scatter(pos[:, 0], pos[:, 1], edgecolors='k', zorder=1)\n",
    "    circle = plt.Circle((0, 0), 1, fill=False, zorder=-1)\n",
    "    plt.gca().add_patch(circle)\n",
    "    plt.xticks([])\n",
    "    plt.yticks([])\n",
    "    plt.tight_layout()\n",
    "    plt.savefig(f'figures/magic_numbers_{n_charges}.pdf')\n",
    "    plt.show()"
   ]
  },
  {
   "cell_type": "code",
   "execution_count": 22,
   "metadata": {},
   "outputs": [
    {
     "name": "stderr",
     "output_type": "stream",
     "text": [
      "100%|██████████| 400/400 [00:03<00:00, 119.99it/s]\n"
     ]
    },
    {
     "data": {
      "image/png": "[encoded data removed]",
      "text/plain": [
       "<Figure size 504x504 with 1 Axes>"
      ]
     },
     "metadata": {},
     "output_type": "display_data"
    }
   ],
   "source": [
    "# n_charges = 56\n",
    "# rs = RunSimulation(\n",
    "#     n_charges,\n",
    "#     circle_radius,\n",
    "#     n_steps, \n",
    "#     stepsize_init,\n",
    "#     stepsize_final,\n",
    "#     random_influence, \n",
    "#     force_influence,\n",
    "#     temperature\n",
    "# )\n",
    "# final_pos = rs.run()\n",
    "\n",
    "\n",
    "# frames = 400\n",
    "# sec = 15\n",
    "# pos_animate = rs.pos_history[::n_steps//frames]\n",
    "# fig, ax = plt.subplots(figsize=(7, 7))\n",
    "# plt.box(False)\n",
    "# plot = ax.scatter(pos_animate[0, :, 0], pos_animate[0, :, 1], edgecolors='k', zorder=1)\n",
    "# text = ax.text(0.7, 0.9, '', fontsize=10)\n",
    "# circle = plt.Circle((0, 0), 1, fill=False, zorder=-1)\n",
    "# plt.gca().add_patch(circle)\n",
    "# plt.xticks([])\n",
    "# plt.yticks([])\n",
    "# ax.set(xlim=(-1.5, 1.5), ylim=(-1.5, 1.5))\n",
    "\n",
    "# def anim_func(i):\n",
    "#     plot.set_offsets(pos_animate[i])\n",
    "#     text.set_text(f'{i}/{frames - 1}')\n",
    "#     return plot\n",
    "\n",
    "# animation = FuncAnimation(\n",
    "#     fig, \n",
    "#     anim_func, \n",
    "#     frames=frames, \n",
    "#     interval=sec / frames * 1e3, \n",
    "#     save_count=frames\n",
    "# )\n",
    "# animation.save(f'56movie.mp4', dpi=500)"
   ]
  }
 ],
 "metadata": {
  "interpreter": {
   "hash": "cf8961fe9b5fbf1e5cd2743c99fc1213d0fe12e26b8e85d9ad5d835ce5addc5c"
  },
  "kernelspec": {
   "display_name": "Python 3.9.7 64-bit ('base': conda)",
   "language": "python",
   "name": "python3"
  },
  "language_info": {
   "codemirror_mode": {
    "name": "ipython",
    "version": 3
   },
   "file_extension": ".py",
   "mimetype": "text/x-python",
   "name": "python",
   "nbconvert_exporter": "python",
   "pygments_lexer": "ipython3",
   "version": "3.9.7"
  },
  "orig_nbformat": 4
 },
 "nbformat": 4,
 "nbformat_minor": 2
}
