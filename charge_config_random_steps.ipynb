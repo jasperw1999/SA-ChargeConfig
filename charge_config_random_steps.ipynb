{
 "cells": [
  {
   "cell_type": "code",
   "execution_count": 6,
   "metadata": {},
   "outputs": [],
   "source": [
    "import os\n",
    "import numpy as np\n",
    "from plot_params import *\n",
    "from scipy.spatial.distance import cdist\n",
    "from copy import deepcopy\n",
    "from tqdm import tqdm\n",
    "from joblib import Parallel, delayed"
   ]
  },
  {
   "cell_type": "code",
   "execution_count": 7,
   "metadata": {},
   "outputs": [],
   "source": [
    "def total_energy(pos):\n",
    "    dist = cdist(pos, pos)\n",
    "    li = np.tril_indices(len(pos), k=-1)\n",
    "    pair_dist = dist[li]\n",
    "    total_energy = (1 / pair_dist).sum()\n",
    "    return total_energy\n",
    "\n",
    "def accept_move(T, energy_after, energy_before):\n",
    "    delta_energy = energy_after - energy_before\n",
    "    if delta_energy < 0:\n",
    "        return True\n",
    "    p = np.exp(- delta_energy / T)\n",
    "    if np.random.rand() <= p:\n",
    "        return True\n",
    "    return False\n",
    "\n",
    "def random_move(pos, i):\n",
    "    og = deepcopy(pos)\n",
    "    pos[i] = og[i] + np.random.uniform(-1, 1, 2) * stepsize\n",
    "    if np.sqrt(pos[i][0] ** 2 + pos[i][1] ** 2) < circle_radius:\n",
    "        return pos\n",
    "    return og\n",
    "\n",
    "def run():\n",
    "    # initialize particles\n",
    "    r = np.random.rand(n)\n",
    "    theta = np.random.rand(n) * 2 * np.pi\n",
    "    x = np.cos(theta) * r\n",
    "    y = np.sin(theta) * r\n",
    "    pos = np.stack((x, y), axis=1)\n",
    "\n",
    "    # loop temp\n",
    "    for j in tqdm(range(steps)):\n",
    "        # loop charge\n",
    "        for i in range(n):\n",
    "            energy_before = total_energy(pos)\n",
    "            possible_pos = random_move(deepcopy(pos), i)\n",
    "            energy_after = total_energy(possible_pos)\n",
    "            if accept_move(T[j], energy_after, energy_before):\n",
    "                pos = possible_pos\n",
    "                \n",
    "    return pos"
   ]
  },
  {
   "cell_type": "code",
   "execution_count": 8,
   "metadata": {},
   "outputs": [
    {
     "name": "stderr",
     "output_type": "stream",
     "text": [
      "[Parallel(n_jobs=16)]: Using backend LokyBackend with 16 concurrent workers.\n",
      "[Parallel(n_jobs=16)]: Done  18 tasks      | elapsed:    0.1s\n",
      "[Parallel(n_jobs=16)]: Done  50 out of  50 | elapsed:    0.2s finished\n"
     ]
    }
   ],
   "source": [
    "# settings\n",
    "steps = 250\n",
    "stepsize = 0.05\n",
    "n = 3\n",
    "runs = 50\n",
    "circle_radius = 1\n",
    "cpu_count = os.cpu_count()\n",
    "\n",
    "# temp function\n",
    "i = np.linspace(10, 1, steps)\n",
    "B = 7\n",
    "vu = 4\n",
    "M = 6\n",
    "T = 1 / (1 + np.exp(- B * (i - M)) ** (1 / vu)) # logistic because cool\n",
    "\n",
    "# run \n",
    "results = Parallel(n_jobs=cpu_count, verbose=1)(delayed(run)() for _ in range(runs))\n",
    "\n",
    "# save\n",
    "results = np.array(results)\n",
    "np.save(f'{runs}times{n}.npy', results)\n"
   ]
  },
  {
   "cell_type": "code",
   "execution_count": 9,
   "metadata": {},
   "outputs": [],
   "source": [
    "# plt.figure(figsize=(6, 6))\n",
    "# plt.scatter(pos[:, 0], pos[:, 1])\n",
    "# circle = plt.Circle((0, 0), 1, fill=False)\n",
    "# plt.gca().add_patch(circle)\n",
    "# plt.show()"
   ]
  },
  {
   "cell_type": "code",
   "execution_count": 10,
   "metadata": {},
   "outputs": [],
   "source": [
    "# i = np.linspace(10, 1, steps)\n",
    "# B = 7\n",
    "# vu = 4\n",
    "# M = 6\n",
    "# T = 1 / (1 + np.exp(- B * (i - M)) ** (1 / vu))\n",
    "\n",
    "# plt.plot(i, T)\n"
   ]
  }
 ],
 "metadata": {
  "interpreter": {
   "hash": "cf8961fe9b5fbf1e5cd2743c99fc1213d0fe12e26b8e85d9ad5d835ce5addc5c"
  },
  "kernelspec": {
   "display_name": "Python 3.9.7 64-bit ('base': conda)",
   "language": "python",
   "name": "python3"
  },
  "language_info": {
   "codemirror_mode": {
    "name": "ipython",
    "version": 3
   },
   "file_extension": ".py",
   "mimetype": "text/x-python",
   "name": "python",
   "nbconvert_exporter": "python",
   "pygments_lexer": "ipython3",
   "version": "3.9.7"
  },
  "orig_nbformat": 4
 },
 "nbformat": 4,
 "nbformat_minor": 2
}
