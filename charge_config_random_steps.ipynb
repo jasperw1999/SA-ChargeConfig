{
 "cells": [
  {
   "cell_type": "code",
   "execution_count": 1135,
   "metadata": {},
   "outputs": [],
   "source": [
    "import os\n",
    "import numpy as np\n",
    "from plot_params import *\n",
    "from scipy.spatial.distance import cdist\n",
    "from copy import deepcopy\n",
    "from tqdm import tqdm\n",
    "from joblib import Parallel, delayed"
   ]
  },
  {
   "cell_type": "code",
   "execution_count": 1136,
   "metadata": {},
   "outputs": [],
   "source": [
    "def total_energy(pos):\n",
    "    dist = cdist(pos, pos)\n",
    "    li = np.tril_indices(len(pos), k=-1)\n",
    "    pair_dist = dist[li]\n",
    "    total_energy = (1 / pair_dist).sum()\n",
    "    return total_energy\n",
    "\n",
    "\n",
    "def accept_move(T, energy_after, energy_before):\n",
    "    delta_energy = energy_after - energy_before\n",
    "    if delta_energy < 0:\n",
    "        return True\n",
    "    p = np.exp(- delta_energy / T)\n",
    "    if np.random.rand() <= p:\n",
    "        return True\n",
    "    return False\n",
    "\n",
    "\n",
    "def random_move(pos, i):\n",
    "    og = deepcopy(pos)\n",
    "    move = np.random.uniform(-1, 1, 2)\n",
    "    normal_move = move / np.linalg.norm(move)\n",
    "    pos[i] = og[i] + normal_move * stepsize\n",
    "    if np.sqrt(pos[i][0] ** 2 + pos[i][1] ** 2) < circle_radius:\n",
    "        return pos\n",
    "    return og\n",
    "\n",
    "\n",
    "def run():\n",
    "    # initialize particles\n",
    "    r = np.random.rand(n)\n",
    "    theta = np.random.rand(n) * 2 * np.pi\n",
    "    x = np.cos(theta) * r\n",
    "    y = np.sin(theta) * r\n",
    "    pos = np.stack((x, y), axis=1)\n",
    "\n",
    "    # loop temp\n",
    "    for j in tqdm(range(steps)):\n",
    "        # loop charge\n",
    "        for i in range(n):\n",
    "            energy_before = total_energy(pos)\n",
    "            # possible_pos = random_move(deepcopy(pos), i)\n",
    "            possible_pos = random_move_with_drift(deepcopy(pos), i)\n",
    "            energy_after = total_energy(possible_pos)\n",
    "            if accept_move(T[j], energy_after, energy_before):\n",
    "                pos = possible_pos\n",
    "    return pos\n",
    "\n",
    "\n",
    "def random_move_with_drift(pos, i):\n",
    "    og = deepcopy(pos)\n",
    "\n",
    "    # calc force\n",
    "    r = cdist(pos, pos)\n",
    "    r = r[i]\n",
    "    r = r[r != 0]\n",
    "\n",
    "    r_x = pos[:, 0].reshape(-1 , 1) - pos[:, 0]\n",
    "    r_x = r_x[i]\n",
    "    r_x = r_x[r_x != 0]\n",
    "\n",
    "    r_y = pos[:, 1].reshape(-1 , 1) - pos[:, 1]\n",
    "    r_y = r_y[i]\n",
    "    r_y = r_y[r_y != 0]\n",
    "\n",
    "    force = np.stack((r_x / np.abs(r ** 3), r_y / np.abs(r ** 3)), axis=1)\n",
    "    total_force = force.sum(axis=0)\n",
    "\n",
    "    normal_force_move = total_force / np.linalg.norm(total_force)\n",
    "\n",
    "    # calc random\n",
    "    random_move = np.random.uniform(-1, 1, 2)\n",
    "    normal_random_move = random_move / np.linalg.norm(random_move)\n",
    "\n",
    "    # add together\n",
    "    pos[i] = og[i] + (normal_random_move + normal_force_move) * stepsize\n",
    "    if np.sqrt(pos[i][0] ** 2 + pos[i][1] ** 2) < circle_radius:\n",
    "        return pos\n",
    "    return og"
   ]
  },
  {
   "cell_type": "code",
   "execution_count": 1137,
   "metadata": {},
   "outputs": [
    {
     "name": "stderr",
     "output_type": "stream",
     "text": [
      "[Parallel(n_jobs=12)]: Using backend LokyBackend with 12 concurrent workers.\n",
      "[Parallel(n_jobs=12)]: Done  26 tasks      | elapsed:    0.6s\n",
      "[Parallel(n_jobs=12)]: Done 176 tasks      | elapsed:    3.5s\n",
      "[Parallel(n_jobs=12)]: Done 426 tasks      | elapsed:    8.7s\n",
      "[Parallel(n_jobs=12)]: Done 500 out of 500 | elapsed:   10.1s finished\n"
     ]
    }
   ],
   "source": [
    "# settings\n",
    "steps = 50\n",
    "stepsize = 0.05\n",
    "n = 11\n",
    "runs = 500\n",
    "circle_radius = 1\n",
    "cpu_count = os.cpu_count()\n",
    "\n",
    "# temp function\n",
    "i = np.linspace(10, 1, steps)\n",
    "B = 7\n",
    "vu = 4\n",
    "M = 6\n",
    "T = 1 / (1 + np.exp(- B * (i - M)) ** (1 / vu)) # logistic because cool\n",
    "\n",
    "# run \n",
    "results = Parallel(n_jobs=cpu_count, verbose=1)(delayed(run)() for _ in range(runs))\n",
    "results = np.array(results)\n",
    "\n",
    "quality = []\n",
    "for r in results:\n",
    "    q = total_energy(r)\n",
    "    quality.append(q)\n",
    "best = results[np.argmin(quality)]\n",
    "worst = results[np.argmax(quality)]\n",
    "\n",
    "# # save\n",
    "# np.save(f'{runs}times{n}.npy', results)"
   ]
  },
  {
   "cell_type": "code",
   "execution_count": 1138,
   "metadata": {},
   "outputs": [
    {
     "data": {
      "image/png": "[encoded data removed]",
      "text/plain": [
       "<Figure size 432x432 with 1 Axes>"
      ]
     },
     "metadata": {
      "needs_background": "light"
     },
     "output_type": "display_data"
    }
   ],
   "source": [
    "# plot best and worst outcome\n",
    "plt.figure(figsize=(6, 6))\n",
    "plt.scatter(best[:, 0], best[:, 1], label='best', s=150)\n",
    "plt.scatter(worst[:, 0], worst[:, 1], label='worst', alpha=0.5)\n",
    "plt.legend()\n",
    "plt.xlim(-1.5, 1.5)\n",
    "plt.ylim(-1.5, 1.5)\n",
    "circle = plt.Circle((0, 0), 1, fill=False)\n",
    "plt.gca().add_patch(circle)\n",
    "plt.show()"
   ]
  },
  {
   "cell_type": "code",
   "execution_count": 1139,
   "metadata": {},
   "outputs": [],
   "source": [
    "# i = np.linspace(10, 1, steps)\n",
    "# B = 7\n",
    "# vu = 4\n",
    "# M = 6\n",
    "# T = 1 / (1 + np.exp(- B * (i - M)) ** (1 / vu))\n",
    "\n",
    "# plt.plot(i, T)\n"
   ]
  }
 ],
 "metadata": {
  "interpreter": {
   "hash": "cf8961fe9b5fbf1e5cd2743c99fc1213d0fe12e26b8e85d9ad5d835ce5addc5c"
  },
  "kernelspec": {
   "display_name": "Python 3.9.7 64-bit ('base': conda)",
   "language": "python",
   "name": "python3"
  },
  "language_info": {
   "codemirror_mode": {
    "name": "ipython",
    "version": 3
   },
   "file_extension": ".py",
   "mimetype": "text/x-python",
   "name": "python",
   "nbconvert_exporter": "python",
   "pygments_lexer": "ipython3",
   "version": "3.8.8"
  },
  "orig_nbformat": 4
 },
 "nbformat": 4,
 "nbformat_minor": 2
}
