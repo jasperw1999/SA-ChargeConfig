{
 "cells": [
  {
   "cell_type": "code",
   "execution_count": 7,
   "metadata": {},
   "outputs": [],
   "source": [
    "import os\n",
    "import numpy as np\n",
    "from plot_params import *\n",
    "from scipy.spatial.distance import cdist\n",
    "from copy import deepcopy\n",
    "from tqdm import tqdm\n",
    "from joblib import Parallel, delayed\n",
    "from matplotlib.animation import FuncAnimation\n",
    "import math\n"
   ]
  },
  {
   "cell_type": "code",
   "execution_count": 8,
   "metadata": {},
   "outputs": [
    {
     "data": {
      "text/plain": [
       "'\\nTODO: \\n- Different cooling schedules\\n- Decrease stepsize\\n\\nFigures:\\n- Examples using both cooling schemes with n = 12, 30, 56\\n- \\n'"
      ]
     },
     "execution_count": 8,
     "metadata": {},
     "output_type": "execute_result"
    }
   ],
   "source": [
    "\"\"\"\n",
    "TODO: \n",
    "- Different cooling schedules\n",
    "- Decrease stepsize\n",
    "\n",
    "Figures:\n",
    "- Examples using both cooling schemes with n = 12, 30, 56\n",
    "- \n",
    "\"\"\""
   ]
  },
  {
   "cell_type": "code",
   "execution_count": 9,
   "metadata": {},
   "outputs": [],
   "source": [
    "def total_energy(pos):\n",
    "    dist = cdist(pos, pos)\n",
    "    li = np.tril_indices(len(pos), k=-1)\n",
    "    pair_dist = dist[li]\n",
    "    total_energy = (1 / pair_dist).sum()\n",
    "    return total_energy\n",
    "\n",
    "\n",
    "def accept_move(T, alpha_log, j, energy_after, energy_before):\n",
    "    \n",
    "    delta_energy = energy_after - energy_before\n",
    "    if delta_energy < 0:\n",
    "        return True\n",
    "    p = np.exp(- delta_energy / T[j]) \n",
    "    alpha_log[j] = p\n",
    "\n",
    "    # p = T\n",
    "    if np.random.rand() <= p:\n",
    "        return True\n",
    "    return False\n",
    "\n",
    "\n",
    "def random_move(pos, i):\n",
    "    og = deepcopy(pos)\n",
    "    move = np.random.uniform(-1, 1, 2)\n",
    "    normal_move = move / np.linalg.norm(move)\n",
    "    pos[i] = og[i] + normal_move * stepsize\n",
    "    if np.sqrt(pos[i][0] ** 2 + pos[i][1] ** 2) < circle_radius:\n",
    "        return pos\n",
    "    return og\n",
    "\n",
    "\n",
    "def run():\n",
    "    # initialize particles\n",
    "    r = np.random.rand(n)\n",
    "    theta = np.random.rand(n) * 2 * np.pi\n",
    "    x = np.cos(theta) * r\n",
    "    y = np.sin(theta) * r\n",
    "    pos = np.stack((x, y), axis=1)\n",
    "    alpha_log = np.zeros(steps)\n",
    "\n",
    "    # loop temp\n",
    "    for j in tqdm(range(steps)):\n",
    "        pos_history[j] = pos\n",
    "        # loop charge\n",
    "        for i in range(n):\n",
    "            energy_before = total_energy(pos)\n",
    "            possible_pos = random_move_with_drift(deepcopy(pos), i)\n",
    "            energy_after = total_energy(possible_pos)\n",
    "            if accept_move(T, alpha_log, j, energy_after, energy_before):\n",
    "                pos = possible_pos\n",
    "    return pos\n",
    "\n",
    "def run_all_charges():\n",
    "    # initialize particles\n",
    "    r = np.random.rand(n)\n",
    "    theta = np.random.rand(n) * 2 * np.pi\n",
    "    x = np.cos(theta) * r\n",
    "    y = np.sin(theta) * r\n",
    "    pos = np.stack((x, y), axis=1)\n",
    "    \n",
    "\n",
    "    # loop temp\n",
    "    for j in tqdm(range(steps)):\n",
    "        pos_history[j] = pos\n",
    "        # loop charge\n",
    "\n",
    "        energy_before = total_energy(pos)\n",
    "        possible_pos = random_move_with_drift_all_charges(deepcopy(pos))\n",
    "        energy_after = total_energy(possible_pos)\n",
    "        if accept_move(T[j], energy_after, energy_before):\n",
    "            pos = possible_pos\n",
    "    return pos\n",
    "\n",
    "def random_move_with_drift_all_charges(pos):\n",
    "    og = deepcopy(pos)\n",
    "\n",
    "    # calc force\n",
    "    r = cdist(pos, pos)\n",
    "    r = np.where(r==0, 1, r)\n",
    "\n",
    "    r_x = pos[:, 0].reshape(-1 , 1) - pos[:, 0]\n",
    "    r_x = r_x / r ** 3\n",
    "\n",
    "    r_y = pos[:, 1].reshape(-1 , 1) - pos[:, 1]\n",
    "    r_y = r_y / r ** 3\n",
    "\n",
    "    force = np.stack((r_x, r_y), axis=2) \n",
    "    total_force = force.sum(axis=1)\n",
    "    normal_force_move = total_force / np.linalg.norm(total_force)\n",
    "    normal_force_move\n",
    "\n",
    "    # calc random\n",
    "    random_move = np.random.uniform(-1, 1, (n, 2))\n",
    "    normal_random_move = random_move / np.linalg.norm(random_move)\n",
    "\n",
    "    pos = og + (normal_force_move * force_influence + normal_random_move * random_influence) * stepsize\n",
    "\n",
    "    if (np.sqrt(pos[:, 0] ** 2 + pos[:, 1] ** 2) < circle_radius).all():\n",
    "        return pos\n",
    "    return og\n",
    "        \n",
    "\n",
    "def random_move_with_drift(pos, i):\n",
    "    og = deepcopy(pos)\n",
    "\n",
    "    # calc force\n",
    "    r = cdist(pos, pos)\n",
    "    r = r[i]\n",
    "    r = r[r != 0]\n",
    "\n",
    "    r_x = pos[:, 0].reshape(-1 , 1) - pos[:, 0]\n",
    "    r_x = r_x[i]\n",
    "    r_x = r_x[r_x != 0]\n",
    "\n",
    "    r_y = pos[:, 1].reshape(-1 , 1) - pos[:, 1]\n",
    "    r_y = r_y[i]\n",
    "    r_y = r_y[r_y != 0]\n",
    "\n",
    "    force = np.stack((r_x / np.abs(r ** 3), r_y / np.abs(r ** 3)), axis=1)\n",
    "    total_force = force.sum(axis=0)\n",
    "\n",
    "    normal_force_move = total_force / np.linalg.norm(total_force)\n",
    "\n",
    "    # calc random\n",
    "    random_move = np.random.uniform(-1, 1, 2)\n",
    "    normal_random_move = random_move / np.linalg.norm(random_move)\n",
    "\n",
    "    # add together\n",
    "    step =  (normal_random_move * random_influence + normal_force_move * force_influence) * stepsize\n",
    "    pos[i] = og[i] + step\n",
    "    step_size = np.linalg.norm(step)\n",
    "\n",
    "    # check if outside of circle\n",
    "    if np.sqrt(pos[i][0] ** 2 + pos[i][1] ** 2) < circle_radius:\n",
    "        return pos\n",
    "    \n",
    "    dist_to_circle = circle_radius-math.sqrt(pos[i, :][0]**2+pos[i, :][1]**2)\n",
    "    #step_size = math.sqrt(step[0]**2+step[1]**2)\n",
    "    step_angle = np.arctan2(step[1], step[0])\n",
    "    \n",
    "    point_angle = np.arctan2(pos[i, 1], pos[i, 0])\n",
    "    \n",
    "    angle_dif = step_angle-point_angle\n",
    "    arc_length = step_size-dist_to_circle\n",
    "    arc_angle = math.copysign(arc_length / circle_radius,angle_dif)\n",
    "    \n",
    "    #pos_new[i_particle, :]= pos[i_particle,:]+random_step*constant\n",
    "    \n",
    "    pos[i, 0] = math.cos(point_angle+arc_angle)*circle_radius\n",
    "    pos[i, 1] = math.sin(point_angle+arc_angle)*circle_radius\n",
    "\n",
    "    return pos\n"
   ]
  },
  {
   "cell_type": "code",
   "execution_count": 10,
   "metadata": {},
   "outputs": [
    {
     "name": "stderr",
     "output_type": "stream",
     "text": [
      "100%|██████████| 10/10 [00:00<00:00, 16.28it/s]\n"
     ]
    }
   ],
   "source": [
    "# settings\n",
    "steps = 100\n",
    "stepsize = 0.04\n",
    "n = 3\n",
    "runs = 10\n",
    "best_runs = 10\n",
    "random_influence = 1\n",
    "force_influence = 0\n",
    "circle_radius = 1\n",
    "pos_history = np.zeros((steps, n, 2))\n",
    "\n",
    "# temp function\n",
    "i = np.linspace(10, 1, steps)\n",
    "B = 7\n",
    "vu = 5\n",
    "M = 5\n",
    "T = 1 / (1 + np.exp(- B * (i - M)) ** (1 / vu)) #- 0.3# logistic because cool \n",
    "\n",
    "all_best = np.zeros((best_runs, n, 2))\n",
    "for i in tqdm(range(best_runs)):\n",
    "\n",
    "    # run \n",
    "    results = Parallel(n_jobs=-1, verbose=0)(delayed(run)() for _ in range(runs))\n",
    "    results = np.array(results)\n",
    "\n",
    "    # pick the best and worst\n",
    "    quality = []\n",
    "    for r in results:\n",
    "        q = total_energy(r)\n",
    "        quality.append(q)\n",
    "    best = results[np.argmin(quality)]\n",
    "    worst = results[np.argmax(quality)]\n",
    "    all_best[i] = best\n",
    "\n",
    "# save\n",
    "np.save(f'best.npy', all_best)"
   ]
  },
  {
   "cell_type": "code",
   "execution_count": 11,
   "metadata": {},
   "outputs": [
    {
     "data": {
      "image/png": "[encoded data removed]",
      "text/plain": [
       "<Figure size 432x432 with 1 Axes>"
      ]
     },
     "metadata": {
      "needs_background": "light"
     },
     "output_type": "display_data"
    }
   ],
   "source": [
    "# plot best and worst outcome\n",
    "plt.figure(figsize=(6, 6))\n",
    "plt.scatter(best[:, 0], best[:, 1], label='best', s=150)\n",
    "plt.scatter(worst[:, 0], worst[:, 1], label='worst', alpha=0.5)\n",
    "plt.legend()\n",
    "plt.xlim(-1.5, 1.5)\n",
    "plt.ylim(-1.5, 1.5)\n",
    "circle = plt.Circle((0, 0), 1, fill=False)\n",
    "plt.gca().add_patch(circle)\n",
    "plt.show()"
   ]
  },
  {
   "cell_type": "code",
   "execution_count": 12,
   "metadata": {},
   "outputs": [
    {
     "name": "stderr",
     "output_type": "stream",
     "text": [
      "100%|██████████| 1000/1000 [00:03<00:00, 266.81it/s]\n"
     ]
    },
    {
     "data": {
      "image/png": "[encoded data removed]",
      "text/plain": [
       "<Figure size 504x504 with 1 Axes>"
      ]
     },
     "metadata": {
      "needs_background": "light"
     },
     "output_type": "display_data"
    }
   ],
   "source": [
    "# settings\n",
    "steps = 1000\n",
    "\n",
    "stepsize = 0.01\n",
    "n = 30\n",
    "runs = 100\n",
    "\n",
    "best_runs = 10\n",
    "random_influence = 1\n",
    "force_influence = 0\n",
    "circle_radius = 1\n",
    "pos_history = np.zeros((steps, n, 2))\n",
    "\n",
    "# temp function\n",
    "i = np.linspace(10, 1, steps)\n",
    "B = 7\n",
    "vu = 5\n",
    "M = 5\n",
    "T = 1 / (1 + np.exp(- B * (i - M)) ** (1 / vu)) #- 0.3# logistic because cool \n",
    "\n",
    "\n",
    "\n",
    "pos = run()\n",
    "frames = 50\n",
    "sec = 10\n",
    "pos_animate = pos_history[::steps//frames]\n",
    "fig, ax = plt.subplots(figsize=(7, 7))\n",
    "plot = ax.scatter(pos_animate[0, :, 0], pos_animate[0, :, 1])\n",
    "text = ax.text(0.1, 0.9, '', fontsize=10)\n",
    "circle = plt.Circle((0, 0), 1, fill=False)\n",
    "plt.gca().add_patch(circle)\n",
    "ax.set(xlim=(-1.5, 1.5), ylim=(-1.5, 1.5))\n",
    "\n",
    "def anim_func(i):\n",
    "    plot.set_offsets(pos_animate[i])\n",
    "    text.set_text(f'{i}/{frames}')\n",
    "    return plot\n",
    "\n",
    "animation = FuncAnimation(fig, anim_func, frames=frames, interval=sec / frames * 1e3, save_count=frames)\n",
    "animation.save(f'kaas_rand.mp4', dpi=100)"
   ]
  },
  {
   "cell_type": "code",
   "execution_count": 13,
   "metadata": {},
   "outputs": [],
   "source": [
    "# temp function\n",
    "i = np.linspace(10, 1, steps)\n",
    "B = 7\n",
    "vu = 5\n",
    "M = 5\n",
    "T = 1 / (1 + np.exp(- B * (i - M)) ** (1 / vu)) - 0.3# logistic because cool "
   ]
  },
  {
   "cell_type": "code",
   "execution_count": 14,
   "metadata": {},
   "outputs": [],
   "source": [
    "# # temp function\n",
    "# i = np.linspace(10, 1, steps)\n",
    "# B = 7\n",
    "# vu = 5\n",
    "# M = 5\n",
    "# T = 1 / (1 + np.exp(- B * (i - M)) ** (1 / vu)) # logistic because cool \n",
    "\n",
    "# delta_energy = \n",
    "\n",
    "# p = lambda T: np.exp(- delta_energy / T)\n",
    "\n",
    "# plt.plot(T, p(T))\n",
    "# plt.ylim(0, 1)"
   ]
  }
 ],
 "metadata": {
  "interpreter": {
   "hash": "cf8961fe9b5fbf1e5cd2743c99fc1213d0fe12e26b8e85d9ad5d835ce5addc5c"
  },
  "kernelspec": {
   "display_name": "Python 3.9.7 64-bit ('base': conda)",
   "language": "python",
   "name": "python3"
  },
  "language_info": {
   "codemirror_mode": {
    "name": "ipython",
    "version": 3
   },
   "file_extension": ".py",
   "mimetype": "text/x-python",
   "name": "python",
   "nbconvert_exporter": "python",
   "pygments_lexer": "ipython3",
   "version": "3.9.7"
  },
  "orig_nbformat": 4
 },
 "nbformat": 4,
 "nbformat_minor": 2
}
