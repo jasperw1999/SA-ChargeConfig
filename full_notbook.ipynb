{
 "cells": [
  {
   "cell_type": "code",
   "execution_count": 1,
   "metadata": {},
   "outputs": [],
   "source": [
    "from helpers import *\n",
    "\n",
    "# import numpy as np\n",
    "# from plot_params import *\n",
    "# from scipy.spatial.distance import cdist\n",
    "# from copy import deepcopy\n",
    "# from tqdm import tqdm\n",
    "# from joblib import Parallel, delayed\n",
    "# from matplotlib.animation import FuncAnimation"
   ]
  },
  {
   "cell_type": "markdown",
   "metadata": {},
   "source": [
    "\n",
    "- different cooling schedules\n",
    "- length of markov chain\n",
    "- variable stepsize \n",
    "- optimal configuration for several n charges\n",
    "\n",
    "# Figures:\n",
    "- exp vs log cooling for n = 12, 30, 56, 92\n",
    "\n",
    "- MC length of 100, 200, 400 for n = 12, 30, 56, 92 using best cooling schedule\n",
    "\n",
    "- variable stepsize 0.5 to 0.25, 0.1, 0.05 for best MC length"
   ]
  },
  {
   "cell_type": "code",
   "execution_count": 2,
   "metadata": {},
   "outputs": [
    {
     "data": {
      "text/plain": [
       "'\\nPoints for in discussion\\n- extend to 3d\\n- reannealing\\n- other methods of solving, like genetic algorithm\\n- mor extensive parameter search\\n'"
      ]
     },
     "execution_count": 2,
     "metadata": {},
     "output_type": "execute_result"
    }
   ],
   "source": [
    "\"\"\"\n",
    "Points for in discussion\n",
    "- extend to 3d\n",
    "- reannealing\n",
    "- other methods of solving, like genetic algorithm\n",
    "- mor extensive parameter search\n",
    "\"\"\""
   ]
  },
  {
   "cell_type": "code",
   "execution_count": 3,
   "metadata": {},
   "outputs": [
    {
     "data": {
      "text/plain": [
       "'\\nTODO: \\n- Different cooling schedules\\n- Decrease stepsize\\n\\nFigures:\\n- Examples using both cooling schemes with n = 12, 30, 56, include the variability\\n- \\n'"
      ]
     },
     "execution_count": 3,
     "metadata": {},
     "output_type": "execute_result"
    }
   ],
   "source": [
    "\"\"\"\n",
    "TODO: \n",
    "- Different cooling schedules\n",
    "- Decrease stepsize\n",
    "\n",
    "Figures:\n",
    "- Examples using both cooling schemes with n = 12, 30, 56, include the variability\n",
    "- \n",
    "\"\"\""
   ]
  },
  {
   "cell_type": "code",
   "execution_count": 7,
   "metadata": {},
   "outputs": [],
   "source": [
    "def cooling_logistic(steps, B, vu, M):\n",
    "    i = np.linspace(10, 1, steps)\n",
    "    T = 1 / (1 + np.exp(- B * (i - M)) ** (1 / vu)) \n",
    "    return T\n",
    "\n",
    "def cooling_exponential(steps, T_init, constant):\n",
    "    T = np.zeros(steps)\n",
    "    for i in range(steps):\n",
    "        T[i] = T_init*pow(constant,i)\n",
    "    return T"
   ]
  },
  {
   "cell_type": "code",
   "execution_count": 8,
   "metadata": {},
   "outputs": [
    {
     "name": "stderr",
     "output_type": "stream",
     "text": [
      "100%|██████████| 10/10 [00:06<00:00,  1.45it/s]\n"
     ]
    }
   ],
   "source": [
    "\n",
    "# simulation setings\n",
    "n_charges = 12\n",
    "n_attemps_per_run = 10\n",
    "n_runs = 10\n",
    "circle_radius = 1\n",
    "\n",
    "# simulation parameters\n",
    "n_steps = 200\n",
    "stepsize_init = 0.05\n",
    "stepsize_final = 0.01\n",
    "random_influence = 1\n",
    "force_influence = 1\n",
    "\n",
    "# # parameters for exponential cooling function\n",
    "# T_init = 1\n",
    "# constant = 0.965\n",
    "# temperature = cooling_exponential(n_steps, T_init, constant)\n",
    "\n",
    "# parameters for logistic cooling function\n",
    "B = 7\n",
    "vu = 5\n",
    "M = 5\n",
    "temperature = cooling_logistic(n_steps, B, vu, M)\n",
    "\n",
    "# initialize simulation\n",
    "cc = CircleCharges(\n",
    "    n_charges, \n",
    "    n_attemps_per_run, \n",
    "    n_runs, \n",
    "    circle_radius, \n",
    "    n_steps, \n",
    "    stepsize_init, \n",
    "    stepsize_final, \n",
    "    random_influence, \n",
    "    force_influence, \n",
    "    temperature\n",
    ")\n",
    "\n",
    "# run the simulation\n",
    "cc.run()"
   ]
  },
  {
   "cell_type": "code",
   "execution_count": 12,
   "metadata": {},
   "outputs": [
    {
     "data": {
      "image/png": "[encoded data removed]",
      "text/plain": [
       "<Figure size 432x432 with 1 Axes>"
      ]
     },
     "metadata": {},
     "output_type": "display_data"
    },
    {
     "name": "stdout",
     "output_type": "stream",
     "text": [
      "variability: 0.1366225505076328\n",
      "lowest 59.599\n",
      "highest 59.634\n",
      "mean 59.611\n",
      "std 0.01\n"
     ]
    }
   ],
   "source": [
    "# produce image \n",
    "cc.produce_figure(\n",
    "    # title=f'Logistic temperature function, {n_charges} charges',\n",
    "    # savepath=f'figures/example_metric_bad.pdf'\n",
    "    )\n",
    "\n",
    "# give score \n",
    "print('variability:', cc.get_variability_score())\n",
    "\n",
    "# give energy \n",
    "cc.print_energy_overview()"
   ]
  },
  {
   "cell_type": "code",
   "execution_count": 10,
   "metadata": {},
   "outputs": [],
   "source": [
    "# logis = [0.10949671551150883, 0.4867656612583355, 1.4263813830661713]\n",
    "# Elog = [59.593815792424515, 479.2326104705806, 1863.5758345837085]\n",
    "# exp = [0.05094500421005248, 0.5351001967937413, 1.5261874742110426]\n",
    "# Eexp = [59.5786870175965, 479.24685537114567, 1863.9356120411128]"
   ]
  },
  {
   "cell_type": "code",
   "execution_count": 11,
   "metadata": {},
   "outputs": [],
   "source": [
    "# rs = RunSimulation(\n",
    "#     n_charges,\n",
    "#     circle_radius,\n",
    "#     n_steps, \n",
    "#     stepsize_init,\n",
    "#     stepsize_final,\n",
    "#     random_influence, \n",
    "#     force_influence,\n",
    "#     temperature\n",
    "# )\n",
    "# final_pos = rs.run()\n",
    "\n",
    "\n",
    "# frames = 50\n",
    "# sec = 5\n",
    "# pos_animate = rs.pos_history[::n_steps//frames]\n",
    "# fig, ax = plt.subplots(figsize=(7, 7))\n",
    "# plot = ax.scatter(pos_animate[0, :, 0], pos_animate[0, :, 1])\n",
    "# text = ax.text(0.1, 0.9, '', fontsize=10)\n",
    "# circle = plt.Circle((0, 0), 1, fill=False)\n",
    "# plt.gca().add_patch(circle)\n",
    "# ax.set(xlim=(-1.5, 1.5), ylim=(-1.5, 1.5))\n",
    "\n",
    "# def anim_func(i):\n",
    "#     plot.set_offsets(pos_animate[i])\n",
    "#     text.set_text(f'{i}/{frames}')\n",
    "#     return plot\n",
    "\n",
    "# animation = FuncAnimation(\n",
    "#     fig, \n",
    "#     anim_func, \n",
    "#     frames=frames, \n",
    "#     interval=sec / frames * 1e3, \n",
    "#     save_count=frames\n",
    "# )\n",
    "# animation.save(f'kaas.mp4', dpi=100)"
   ]
  }
 ],
 "metadata": {
  "interpreter": {
   "hash": "cf8961fe9b5fbf1e5cd2743c99fc1213d0fe12e26b8e85d9ad5d835ce5addc5c"
  },
  "kernelspec": {
   "display_name": "Python 3.9.7 64-bit ('base': conda)",
   "language": "python",
   "name": "python3"
  },
  "language_info": {
   "codemirror_mode": {
    "name": "ipython",
    "version": 3
   },
   "file_extension": ".py",
   "mimetype": "text/x-python",
   "name": "python",
   "nbconvert_exporter": "python",
   "pygments_lexer": "ipython3",
   "version": "3.9.7"
  },
  "orig_nbformat": 4
 },
 "nbformat": 4,
 "nbformat_minor": 2
}
