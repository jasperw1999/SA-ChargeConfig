{
 "cells": [
  {
   "cell_type": "code",
   "execution_count": 56,
   "id": "91567707",
   "metadata": {},
   "outputs": [],
   "source": [
    "import numpy as np\n",
    "import matplotlib.pyplot as plt\n",
    "from plot_params import * \n",
    "import scipy.constants as spc\n",
    "from scipy.spatial.distance import cdist"
   ]
  },
  {
   "cell_type": "code",
   "execution_count": 107,
   "id": "f8fefd9c",
   "metadata": {},
   "outputs": [],
   "source": [
    "def Generate_charges(n_charges, radius):\n",
    "    r = radius * np.sqrt(np.random.rand(n_charges))\n",
    "    theta = np.random.rand(n_charges) * 2 * spc.pi\n",
    "    x = r * np.cos(theta)\n",
    "    y = r * np.sin(theta)\n",
    "    print(x)\n",
    "    #print(np.concatenate((x, y), axis=1))\n",
    "    return np.concatenate((x, y), axis=0)"
   ]
  },
  {
   "cell_type": "code",
   "execution_count": 112,
   "id": "6709b3ff",
   "metadata": {},
   "outputs": [
    {
     "name": "stdout",
     "output_type": "stream",
     "text": [
      "[-1.97753783 -1.43554052]\n"
     ]
    }
   ],
   "source": [
    "n_charges = 2\n",
    "pos = Generate_charges(n_charges, 5)\n",
    "\n",
    "#dist = cdist(pos,pos,'euclidean')"
   ]
  }
 ],
 "metadata": {
  "kernelspec": {
   "display_name": "Python 3",
   "language": "python",
   "name": "python3"
  },
  "language_info": {
   "codemirror_mode": {
    "name": "ipython",
    "version": 3
   },
   "file_extension": ".py",
   "mimetype": "text/x-python",
   "name": "python",
   "nbconvert_exporter": "python",
   "pygments_lexer": "ipython3",
   "version": "3.8.8"
  }
 },
 "nbformat": 4,
 "nbformat_minor": 5
}
